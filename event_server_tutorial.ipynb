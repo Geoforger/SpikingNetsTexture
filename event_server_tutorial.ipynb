{
 "cells": [
  {
   "cell_type": "markdown",
   "metadata": {},
   "source": [
    "Code to loop over the input and print out the raw numerical data"
   ]
  },
  {
   "cell_type": "code",
   "execution_count": null,
   "metadata": {},
   "outputs": [],
   "source": [
    "from dv import NetworkEventInput\n",
    "\n",
    "with NetworkEventInput(address='127.0.0.1', port=43127) as i:\n",
    "    for event in i:\n",
    "        print(event.timestamp)\n"
   ]
  },
  {
   "cell_type": "markdown",
   "metadata": {},
   "source": [
    "Code to loop over the input and output a np matrix"
   ]
  },
  {
   "cell_type": "code",
   "execution_count": null,
   "metadata": {},
   "outputs": [],
   "source": [
    "from dv import NetworkFrameInput\n",
    "import cv2\n",
    "\n",
    "with NetworkFrameInput(address='127.0.0.1', port=37155) as i:\n",
    "    for frame in i:\n",
    "        print(frame)\n",
    "        cv2.imshow('out', frame.image)\n",
    "        cv2.waitKey(1)\n"
   ]
  }
 ],
 "metadata": {
  "kernelspec": {
   "display_name": "Python 3.8.5 64-bit ('base': conda)",
   "name": "python385jvsc74a57bd0fb5b1a4d5939e674b78c353adf74395712be1344fa5c5cbf42c0dc5354c3177f"
  },
  "language_info": {
   "codemirror_mode": {
    "name": "ipython",
    "version": 3
   },
   "file_extension": ".py",
   "mimetype": "text/x-python",
   "name": "python",
   "nbconvert_exporter": "python",
   "pygments_lexer": "ipython3",
   "version": "3.8.5"
  },
  "metadata": {
   "interpreter": {
    "hash": "fb5b1a4d5939e674b78c353adf74395712be1344fa5c5cbf42c0dc5354c3177f"
   }
  },
  "orig_nbformat": 2
 },
 "nbformat": 4,
 "nbformat_minor": 2
}