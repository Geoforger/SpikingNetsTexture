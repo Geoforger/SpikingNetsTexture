{
 "cells": [
  {
   "cell_type": "code",
   "execution_count": 1,
   "id": "c0db5a3a",
   "metadata": {},
   "outputs": [
    {
     "name": "stderr",
     "output_type": "stream",
     "text": [
      "<frozen importlib._bootstrap>:228: RuntimeWarning: compiletime version 3.8 of module 'pynestkernel' does not match runtime version 3.9\n",
      "/usr/lib/python3.8/dist-packages/nest/lib/hl_api_helper.py:127: UserWarning:\n",
      "ResetNetwork is deprecated and will be removed in NEST 3.0.\n"
     ]
    },
    {
     "data": {
      "text/plain": [
       "<Figure size 1440x720 with 0 Axes>"
      ]
     },
     "metadata": {},
     "output_type": "display_data"
    }
   ],
   "source": [
    "# Import libraries\n",
    "import nest\n",
    "import pyNN.nest as sim\n",
    "from pyNN.parameters import Sequence\n",
    "#from pyNN.models import IzhikevichType\n",
    "import numpy\n",
    "import matplotlib.pyplot as plt\n",
    "import time\n",
    "\n",
    "def build_spike_sequences(spikes):  # period, duration, n, delta_t\n",
    "    \"\"\"\n",
    "    Return a spike time generator for `n` neurons (spike sources), where\n",
    "    all neurons fire with the same period, but neighbouring neurons have a relative\n",
    "    firing time difference of `delta_t`.\n",
    "    \"\"\"\n",
    "\n",
    "    def spike_time_gen(i):\n",
    "        \"\"\"Spike time generator. `i` should be an array of indices.\"\"\"\n",
    "        #print([Sequence(numpy.arange(period + j * delta_t, duration, period)) for j in (i - n // 2)])\n",
    "        #return [Sequence(numpy.arange(period + j * delta_t, duration, period)) for j in (i - n // 2)]\n",
    "        #print([Sequence(spikes[j]) for j in i])\n",
    "        return [Sequence(spikes[j]) for j in i]\n",
    "\n",
    "    return spike_time_gen\n",
    "\n",
    "# Plot spike trains function taken from PyNN examples\n",
    "# data will contain segments of data depending on how many times the sim has been run\n",
    "# Usually this will be 1 in this test case\n",
    "def plot_spiketrains(segment):\n",
    "    for spiketrain in segment.spiketrains:\n",
    "        y = numpy.ones_like(spiketrain) * \\\n",
    "            spiketrain.annotations['source_id']\n",
    "        plt.plot(spiketrain, y, '.')\n",
    "        plt.ylabel(segment.name)\n",
    "        plt.xlabel(\"time (ms)\")\n",
    "        plt.title(FILE_NAME)\n",
    "        plt.setp(plt.gca().get_xticklabels(), visible=True)\n",
    "        #plt.set_autoscale_on(False)\n",
    "        #print(spiketrain)\n",
    "\n",
    "\n",
    "\n",
    "for kk in range(1, 11):\n",
    "    # Reset NEST kernal\n",
    "    nest.ResetKernel()  # Reset kernal to prevent errors\n",
    "\n",
    "    # Setup connection from pyNN to NEST backend\n",
    "    sim.setup(timestep=1.0)\n",
    "\n",
    "    # Path to file containing spike timings\n",
    "    FILE_NAME = \"Artificial Dataset 0Texture No. \" + str(kk) + \".pickle\"\n",
    "    DATA_PATH = \"/home/farscope2/Documents/PhD/Spiking Nets Project/SpikingNetsTexture/datasets/TacTip_NM/Reduced/\" + FILE_NAME\n",
    "\n",
    "\n",
    "    # Define network\n",
    "    N = 19600   # Number of input neurons\n",
    "    run_time = 300.0\n",
    "\n",
    "    # Input layer of izhikevich neurons\n",
    "    #input_layer = nest.Create(\"izhikevich\", N)\n",
    "    #input_layer = sim.Population(N, sim.Izhikevich())\n",
    "\n",
    "    # Import and flatten the dataset for use in the network\n",
    "    spike_times = numpy.load(DATA_PATH, allow_pickle=True)\n",
    "    spks = spike_times.reshape(-1)\n",
    "\n",
    "    timings = []\n",
    "\n",
    "    for x in spks:\n",
    "        timings.append(Sequence(x))\n",
    "\n",
    "\n",
    "    #print(build_spike_sequences(timings))\n",
    "    #spike_sequence_generator = build_spike_sequences(firing_period, t_stop, N, delta_t)\n",
    "    spike_sequence_generator = build_spike_sequences(timings)\n",
    "    p1 = sim.Population(N, sim.SpikeSourceArray(spike_times=spike_sequence_generator))\n",
    "    p1.record(['spikes'])\n",
    "\n",
    "    # Run simulation\n",
    "    sim.run(run_time)\n",
    "\n",
    "    data = p1.get_data()  # Retrieve data from simulation\n",
    "    sim.end()  # End simulation and begin data processing\n",
    "\n",
    "    # Set figure size\n",
    "    plt.rcParams[\"figure.figsize\"] = (20,10)\n",
    "\n",
    "    plot_spiketrains(data.segments[0])\n",
    "    #plt.savefig(\"/home/farscope2/Documents/PhD/Spiking Nets Project/SpikingNetsTexture/graphs/Spike_trains/\" + FILE_NAME + \".eps\")\n",
    "    plt.savefig(\"/home/farscope2/Documents/PhD/Spiking Nets Project/SpikingNetsTexture/graphs/Spike_trains_short/\" + FILE_NAME + str(run_time) + \"ms.png\")\n",
    "    plt.clf()\n",
    "#plt.show()\n"
   ]
  },
  {
   "cell_type": "code",
   "execution_count": null,
   "id": "9db6c167",
   "metadata": {},
   "outputs": [],
   "source": []
  }
 ],
 "metadata": {
  "kernelspec": {
   "display_name": "Python 3",
   "language": "python",
   "name": "python3"
  },
  "language_info": {
   "codemirror_mode": {
    "name": "ipython",
    "version": 3
   },
   "file_extension": ".py",
   "mimetype": "text/x-python",
   "name": "python",
   "nbconvert_exporter": "python",
   "pygments_lexer": "ipython3",
   "version": "3.9.5"
  }
 },
 "nbformat": 4,
 "nbformat_minor": 5
}
