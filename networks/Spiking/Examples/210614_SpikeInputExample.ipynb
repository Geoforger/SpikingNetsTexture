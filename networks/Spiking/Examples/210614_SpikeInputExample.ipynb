{
 "cells": [
  {
   "cell_type": "code",
   "execution_count": 50,
   "id": "76ceff5a-f93e-46bb-bb84-e34b4c1c30e8",
   "metadata": {},
   "outputs": [
    {
     "name": "stdout",
     "output_type": "stream",
     "text": [
      "simulation length: 10.0 mins = 600000 ms\n"
     ]
    }
   ],
   "source": [
    "import numpy as np\n",
    "import matplotlib.pyplot as plt\n",
    "import nest as sim\n",
    "\n",
    "sim.ResetKernel()\n",
    "\n",
    "mins = 10.\n",
    "sim_len = int(mins * 60000)\n",
    "print(f'simulation length: {mins} mins = {sim_len} ms')\n",
    "\n",
    "N = 63 # number of cells"
   ]
  },
  {
   "cell_type": "markdown",
   "id": "92e40a85-e8ad-4015-b686-e6efb75c64c7",
   "metadata": {},
   "source": [
    "### Create population"
   ]
  },
  {
   "cell_type": "code",
   "execution_count": 51,
   "id": "dbd8fcde-d267-462e-a8c7-69b6d053eee8",
   "metadata": {},
   "outputs": [],
   "source": [
    "population = sim.Create(\"iaf_psc_alpha\",N)"
   ]
  },
  {
   "cell_type": "markdown",
   "id": "dcc6ca33-93cb-4e11-9b81-80267e113640",
   "metadata": {},
   "source": [
    "### Load spike times from file"
   ]
  },
  {
   "cell_type": "code",
   "execution_count": 52,
   "id": "3d5d24f9-0227-45c6-a203-c055b80cfe43",
   "metadata": {},
   "outputs": [],
   "source": [
    "spktms = np.load('exampleSpikeTimes.npy',allow_pickle = True)"
   ]
  },
  {
   "cell_type": "markdown",
   "id": "e792703a-cd55-4948-8bd4-4d2d7835ae1b",
   "metadata": {},
   "source": [
    "### Arrange spike times into array of parameter dictionaries\n",
    "\n",
    "- One dictionary per cell\n",
    "- Dictionary contains list of spike times"
   ]
  },
  {
   "cell_type": "code",
   "execution_count": 53,
   "id": "47bf79a6-94d8-4c90-9ff8-d55be4e86530",
   "metadata": {},
   "outputs": [],
   "source": [
    "params = []\n",
    "for cell in np.arange(len((spktms))):\n",
    "    params.append({'spike_times':spktms[cell]})"
   ]
  },
  {
   "cell_type": "markdown",
   "id": "793722e3-8ba2-4327-b418-25273279facd",
   "metadata": {},
   "source": [
    "### Create one spike generator device per cell, pass array of spike time dictionaries\n",
    "\n",
    "Connect each spike generator to each cell one to one"
   ]
  },
  {
   "cell_type": "code",
   "execution_count": 53,
   "id": "cb980437-6054-4ed7-bc41-614ff575c6a3",
   "metadata": {},
   "outputs": [],
   "source": [
    "spike_input = sim.Create('spike_generator', N, params)\n",
    "sim.Connect(spike_input,population,'one_to_one',syn_spec={'weight': 2000, 'delay': 0.1})"
   ]
  },
  {
   "cell_type": "markdown",
   "id": "a76eb116-0976-4167-b0d6-b9c5169d104f",
   "metadata": {},
   "source": [
    "This is very similar in pyNN i think, the device is called a SpikeSourceArray\n",
    "\n",
    "http://neuralensemble.org/docs/PyNN/reference/neuronmodels.html#pyNN.standardmodels.cells.SpikeSourceArray"
   ]
  },
  {
   "cell_type": "markdown",
   "id": "61d46a2c-fa7e-4193-b4a8-267be7469db5",
   "metadata": {},
   "source": [
    "### Record spike activity"
   ]
  },
  {
   "cell_type": "code",
   "execution_count": 54,
   "id": "dcc27562-9500-4eaf-a368-6738ccf65b45",
   "metadata": {},
   "outputs": [],
   "source": [
    "spike_recorder = sim.Create(\"spike_detector\", N, params={\"withgid\": True,\"withtime\": True})\n",
    "sim.Connect(population,spike_recorder)"
   ]
  },
  {
   "cell_type": "markdown",
   "id": "561df472-9599-43fb-ab10-a4543a3546ab",
   "metadata": {},
   "source": [
    "### Run simulation"
   ]
  },
  {
   "cell_type": "code",
   "execution_count": 55,
   "id": "f822ad4d-c6a0-468f-ad94-1eb54b7b94e5",
   "metadata": {},
   "outputs": [],
   "source": [
    "sim.Simulate(sim_len)"
   ]
  },
  {
   "cell_type": "markdown",
   "id": "9cac3167-08fb-4f52-99be-389ad29f57cf",
   "metadata": {},
   "source": [
    "### Get spike data"
   ]
  },
  {
   "cell_type": "code",
   "execution_count": 56,
   "id": "dbcf4c6d-3166-4632-abfa-ec169f3c25bc",
   "metadata": {},
   "outputs": [],
   "source": [
    "ev = sim.GetStatus(spike_recorder)[0]['events']\n",
    "t = ev['times']\n",
    "sp = ev['senders']"
   ]
  },
  {
   "cell_type": "code",
   "execution_count": 57,
   "id": "1bec3438-ecec-4121-aae2-56d7f0ccb2ca",
   "metadata": {},
   "outputs": [
    {
     "data": {
      "text/plain": [
       "Text(0.5, 0, 'Time (ms)')"
      ]
     },
     "execution_count": 57,
     "metadata": {},
     "output_type": "execute_result"
    },
    {
     "data": {
      "image/png": "[encoded data removed]",
      "text/plain": [
       "<Figure size 1440x360 with 1 Axes>"
      ]
     },
     "metadata": {
      "needs_background": "light"
     },
     "output_type": "display_data"
    }
   ],
   "source": [
    "plt.figure(figsize = (20,5))\n",
    "plt.scatter(t,sp)\n",
    "plt.ylabel('Neuron')\n",
    "plt.xlabel('Time (ms)')"
   ]
  },
  {
   "cell_type": "markdown",
   "id": "badf79cb-8d9c-4f78-b93a-29b959c4413c",
   "metadata": {},
   "source": [
    "The spike data provided was from my HD cell model, the spikes show a bump of active cells which travels across the network over time as an estimate of current heading"
   ]
  },
  {
   "cell_type": "code",
   "execution_count": null,
   "id": "f1b50add-0476-45bc-8269-5752ac73f6b6",
   "metadata": {},
   "outputs": [],
   "source": []
  }
 ],
 "metadata": {
  "kernelspec": {
   "display_name": "env2D",
   "language": "python",
   "name": "env2d"
  },
  "language_info": {
   "codemirror_mode": {
    "name": "ipython",
    "version": 3
   },
   "file_extension": ".py",
   "mimetype": "text/x-python",
   "name": "python",
   "nbconvert_exporter": "python",
   "pygments_lexer": "ipython3",
   "version": "3.8.8"
  }
 },
 "nbformat": 4,
 "nbformat_minor": 5
}
