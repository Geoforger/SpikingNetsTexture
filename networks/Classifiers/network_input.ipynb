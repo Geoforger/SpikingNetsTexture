{
 "cells": [
  {
   "cell_type": "code",
   "execution_count": 1,
   "id": "e54e17e2",
   "metadata": {},
   "outputs": [
    {
     "name": "stderr",
     "output_type": "stream",
     "text": [
      "<frozen importlib._bootstrap>:228: RuntimeWarning: compiletime version 3.8 of module 'pynestkernel' does not match runtime version 3.9\n",
      "/usr/lib/python3.8/dist-packages/nest/lib/hl_api_helper.py:127: UserWarning:\n",
      "ResetNetwork is deprecated and will be removed in NEST 3.0.\n"
     ]
    },
    {
     "data": {
      "text/plain": [
       "0"
      ]
     },
     "execution_count": 1,
     "metadata": {},
     "output_type": "execute_result"
    }
   ],
   "source": [
    "# Import libraries\n",
    "import nest\n",
    "import pyNN.nest as sim\n",
    "from pyNN.parameters import Sequence\n",
    "#from pyNN.models import IzhikevichType\n",
    "import numpy\n",
    "import matplotlib.pyplot as plt\n",
    "\n",
    "# Path to file containing spike timings\n",
    "FILE_NAME = \"Artificial Dataset 0Texture No. 0.pickle\"\n",
    "DATA_PATH = \"/home/farscope2/Documents/PhD/Spiking Nets Project/SpikingNetsTexture/datasets/TacTip_NM/Reduced/\" + FILE_NAME\n",
    "\n",
    "# Reset NEST kernal\n",
    "nest.ResetKernel()  # Reset kernal to prevent errors\n",
    "\n",
    "# Setup connection from pyNN to NEST backend\n",
    "sim.setup(timestep=1.0)"
   ]
  },
  {
   "cell_type": "code",
   "execution_count": 2,
   "id": "4be85c0f",
   "metadata": {},
   "outputs": [],
   "source": [
    "# Define network\n",
    "N = 19600   # Number of input neurons\n",
    "run_time = 300\n",
    "\n",
    "# Input layer of izhikevich neurons\n",
    "#input_layer = nest.Create(\"izhikevich\", N)\n",
    "input_layer = sim.Population(N, sim.Izhikevich())\n",
    "\n",
    "# Import and flatten the dataset for use in the network\n",
    "spike_times = numpy.load(DATA_PATH, allow_pickle=True)\n",
    "spks = spike_times.reshape(-1)\n",
    "\n",
    "timings = []\n",
    "\n",
    "for x in spks:\n",
    "    timings.append(Sequence(x))\n",
    "\n",
    "#print(spks[])\n",
    "#print(numpy.unique(spks))\n",
    "#print(timings)"
   ]
  },
  {
   "cell_type": "code",
   "execution_count": 3,
   "id": "e90e5435",
   "metadata": {},
   "outputs": [],
   "source": [
    "def build_spike_sequences(spikes): # period, duration, n, delta_t\n",
    "    \"\"\"\n",
    "    Return a spike time generator for `n` neurons (spike sources), where\n",
    "    all neurons fire with the same period, but neighbouring neurons have a relative\n",
    "    firing time difference of `delta_t`.\n",
    "    \"\"\"\n",
    "    \n",
    "    def spike_time_gen(i):\n",
    "        \"\"\"Spike time generator. `i` should be an array of indices.\"\"\"\n",
    "        #print([Sequence(numpy.arange(period + j * delta_t, duration, period)) for j in (i - n // 2)])\n",
    "        #return [Sequence(numpy.arange(period + j * delta_t, duration, period)) for j in (i - n // 2)]\n",
    "        #print([Sequence(spikes[j]) for j in i])\n",
    "        return [Sequence(spikes[j]) for j in i]        \n",
    "\n",
    "    return spike_time_gen"
   ]
  },
  {
   "cell_type": "code",
   "execution_count": 4,
   "id": "43b5075c",
   "metadata": {},
   "outputs": [],
   "source": [
    "#print(build_spike_sequences(timings))\n",
    "#spike_sequence_generator = build_spike_sequences(firing_period, t_stop, N, delta_t)\n",
    "spike_sequence_generator = build_spike_sequences(timings)\n",
    "p1 = sim.Population(N, sim.SpikeSourceArray(spike_times=spike_sequence_generator))\n",
    "p1.record(['spikes'])"
   ]
  },
  {
   "cell_type": "code",
   "execution_count": 5,
   "id": "f85727aa",
   "metadata": {},
   "outputs": [
    {
     "data": {
      "text/plain": [
       "100.0"
      ]
     },
     "execution_count": 5,
     "metadata": {},
     "output_type": "execute_result"
    }
   ],
   "source": [
    "sim.run(run_time)"
   ]
  },
  {
   "cell_type": "code",
   "execution_count": 6,
   "id": "880d7bba",
   "metadata": {},
   "outputs": [
    {
     "data": {
      "image/png": "[encoded data removed]",
      "text/plain": [
       "<Figure size 1440x720 with 1 Axes>"
      ]
     },
     "metadata": {
      "needs_background": "light"
     },
     "output_type": "display_data"
    }
   ],
   "source": [
    "data = p1.get_data()  # Retrieve data from simulation\n",
    "sim.end()  # End simulation and begin data processing\n",
    "\n",
    "# Set figure size\n",
    "plt.rcParams[\"figure.figsize\"] = (20,10)\n",
    "\n",
    "# Plot spike trains function taken from PyNN examples\n",
    "# data will contain segments of data depending on how many times the sim has been run\n",
    "# Usually this will be 1 in this test case\n",
    "def plot_spiketrains(segment):\n",
    "    for spiketrain in segment.spiketrains:\n",
    "        y = numpy.ones_like(spiketrain) * spiketrain.annotations['source_id']\n",
    "        plt.plot(spiketrain, y, '.')\n",
    "        plt.ylabel(segment.name)\n",
    "        plt.xlabel(\"time (ms)\")\n",
    "        plt.title(FILE_NAME)\n",
    "        plt.setp(plt.gca().get_xticklabels(), visible=False)\n",
    "        #print(spiketrain)\n",
    "        \n",
    "plot_spiketrains(data.segments[0])\n",
    "plt.savefig(\"/home/farscope2/Documents/PhD/Spiking Nets Project/SpikingNetsTexture/graphs/Spike_trains_short/\" + FILE_NAME + str(run_time) + \"ms.eps\")\n",
    "plt.show()"
   ]
  },
  {
   "cell_type": "code",
   "execution_count": null,
   "id": "d38e880d",
   "metadata": {},
   "outputs": [],
   "source": []
  }
 ],
 "metadata": {
  "interpreter": {
   "hash": "e7370f93d1d0cde622a1f8e1c04877d8463912d04d973331ad4851f04de6915a"
  },
  "kernelspec": {
   "display_name": "Python 3",
   "language": "python",
   "name": "python3"
  },
  "language_info": {
   "codemirror_mode": {
    "name": "ipython",
    "version": 3
   },
   "file_extension": ".py",
   "mimetype": "text/x-python",
   "name": "python",
   "nbconvert_exporter": "python",
   "pygments_lexer": "ipython3",
   "version": "3.9.5"
  }
 },
 "nbformat": 4,
 "nbformat_minor": 5
}
