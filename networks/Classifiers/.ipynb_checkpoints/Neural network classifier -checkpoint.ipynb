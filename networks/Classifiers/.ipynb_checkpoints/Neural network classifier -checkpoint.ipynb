{
 "cells": [
  {
   "cell_type": "code",
   "execution_count": 1,
   "id": "c4f89d10",
   "metadata": {},
   "outputs": [],
   "source": [
    "# Import libraries\n",
    "import numpy as np\n",
    "import matplotlib.pyplot as plt\n",
    "import os\n",
    "import pickle\n",
    "from sklearn.model_selection import train_test_split\n",
    "from sklearn.neural_network import MLPClassifier\n",
    "from sklearn.metrics import precision_score, recall_score, accuracy_score, confusion_matrix, plot_confusion_matrix\n",
    "from sklearn.model_selection import KFold\n",
    "import math"
   ]
  },
  {
   "cell_type": "code",
   "execution_count": 2,
   "id": "6bb2624a",
   "metadata": {},
   "outputs": [],
   "source": [
    "# Function to set appropriate figure size for publication\n",
    "# Width @516pts is for IEEE conference format\n",
    "def set_size(width=516, fraction=1):\n",
    "    \"\"\"Set figure dimensions to avoid scaling in LaTeX.\n",
    "\n",
    "    Parameters\n",
    "    ----------\n",
    "    width: float\n",
    "            Document textwidth or columnwidth in pts\n",
    "    fraction: float, optional\n",
    "            Fraction of the width which you wish the figure to occupy\n",
    "\n",
    "    Returns\n",
    "    -------\n",
    "    fig_dim: tuple\n",
    "            Dimensions of figure in inches\n",
    "    \"\"\"\n",
    "    # Width of figure (in pts)\n",
    "    fig_width_pt = width * fraction\n",
    "\n",
    "    # Convert from pt to inches\n",
    "    inches_per_pt = 1 / 72.27\n",
    "\n",
    "    # Golden ratio to set aesthetic figure height\n",
    "    # https://disq.us/p/2940ij3\n",
    "    golden_ratio = (5**.5 - 1) / 2\n",
    "\n",
    "    # Figure width in inches\n",
    "    fig_width_in = fig_width_pt * inches_per_pt\n",
    "    # Figure height in inches\n",
    "    fig_height_in = fig_width_in * golden_ratio\n",
    "\n",
    "    fig_dim = (fig_width_in, fig_height_in)\n",
    "\n",
    "    return fig_dim"
   ]
  },
  {
   "cell_type": "code",
   "execution_count": 3,
   "id": "399321ce",
   "metadata": {},
   "outputs": [],
   "source": [
    "# Import dataset and labels from pickle\n",
    "def return_data(sim_length, bin_size):\n",
    "    PATH = \"/home/farscope2/Documents/PhD/Spiking Nets Project/SpikingNetsTexture/datasets/TacTip_NM/histogram_classifier/\"\n",
    "    DATA_NAME = str(sim_length) + \"ms - \" + str(bin_size) + \"ms bin size dataset.pickle\"\n",
    "\n",
    "    # Import dataset first\n",
    "    FILENAME = PATH + DATA_NAME\n",
    "\n",
    "    # Create array of intensities for heatmap\n",
    "    with(open(FILENAME, \"rb\")) as openfile:\n",
    "        try:\n",
    "            dataset = pickle.load(openfile)\n",
    "        except EOFError:\n",
    "            print(EOFError)\n",
    "            \n",
    "    # WARNING: Dataset created from previous script contains a NULL row 0\n",
    "    #          This row has currently been deleted and saved over the initial dataset\n",
    "    #          Note for next time is to fix this bug\n",
    "    if len(dataset) == (trials * textures)+1:\n",
    "        dataset = np.delete(dataset, 0, 0)\n",
    "            \n",
    "    return dataset"
   ]
  },
  {
   "cell_type": "code",
   "execution_count": 4,
   "id": "b79f3b2d",
   "metadata": {},
   "outputs": [],
   "source": [
    "# Data params\n",
    "textures = 11\n",
    "trials = 100\n",
    "\n",
    "# Set bin and sim params\n",
    "#bin_size = 250   # Bin size in ms\n",
    "sim_length = 5000   # Sim time in ms\n",
    "#bins = math.ceil(sim_length / bin_size)"
   ]
  },
  {
   "cell_type": "code",
   "execution_count": 5,
   "id": "613a2c19",
   "metadata": {},
   "outputs": [],
   "source": [
    "# Import labels for dataset\n",
    "PATH = \"/home/farscope2/Documents/PhD/Spiking Nets Project/SpikingNetsTexture/datasets/TacTip_NM/histogram_classifier/\"\n",
    "LABEL_NAME = str(textures) + \" textures - \" + str(trials) + \" trials labels.pickle\"\n",
    "# Now import label array\n",
    "FILENAME = PATH + LABEL_NAME\n",
    "\n",
    "with(open(FILENAME, \"rb\")) as openfile:\n",
    "    try:\n",
    "        labels = pickle.load(openfile)\n",
    "    except EOFError:\n",
    "        print(EOFError)"
   ]
  },
  {
   "cell_type": "code",
   "execution_count": 6,
   "id": "e282c61a",
   "metadata": {},
   "outputs": [],
   "source": [
    "# This is now handled in a function above\n",
    "\n",
    "# WARNING: Dataset created from previous script contains a NULL row 0\n",
    "#          This row has currently been deleted and saved over the initial dataset\n",
    "#          Note for next time is to fix this bug\n",
    "#print(dataset[0])\n",
    "#dataset = np.delete(dataset, 0, 0)\n",
    "#print(len(dataset))\n",
    "# if len(dataset) == 1101:\n",
    "#     dataset = np.delete(dataset, 0, 0)\n",
    "    \n",
    "# Split data into testing and training\n",
    "# Ration currently 80-20\n",
    "#x_train, x_test, y_train, y_test = train_test_split(dataset, labels, test_size=0.2)"
   ]
  },
  {
   "cell_type": "code",
   "execution_count": 7,
   "id": "95baff4a",
   "metadata": {},
   "outputs": [],
   "source": [
    "# Create kfold validation model\n",
    "kf = KFold(n_splits=10, random_state=63, shuffle=True)"
   ]
  },
  {
   "cell_type": "code",
   "execution_count": 8,
   "id": "b04f0af1",
   "metadata": {
    "scrolled": true
   },
   "outputs": [
    {
     "name": "stdout",
     "output_type": "stream",
     "text": [
      "Currently handling bin size of : 300\n"
     ]
    },
    {
     "name": "stderr",
     "output_type": "stream",
     "text": [
      "/home/farscope2/anaconda3/envs/spiking/lib/python3.9/site-packages/sklearn/neural_network/_multilayer_perceptron.py:614: ConvergenceWarning: Stochastic Optimizer: Maximum iterations (200) reached and the optimization hasn't converged yet.\n",
      "  warnings.warn(\n",
      "/home/farscope2/anaconda3/envs/spiking/lib/python3.9/site-packages/sklearn/neural_network/_multilayer_perceptron.py:614: ConvergenceWarning: Stochastic Optimizer: Maximum iterations (200) reached and the optimization hasn't converged yet.\n",
      "  warnings.warn(\n",
      "/home/farscope2/anaconda3/envs/spiking/lib/python3.9/site-packages/sklearn/neural_network/_multilayer_perceptron.py:614: ConvergenceWarning: Stochastic Optimizer: Maximum iterations (200) reached and the optimization hasn't converged yet.\n",
      "  warnings.warn(\n",
      "/home/farscope2/anaconda3/envs/spiking/lib/python3.9/site-packages/sklearn/neural_network/_multilayer_perceptron.py:614: ConvergenceWarning: Stochastic Optimizer: Maximum iterations (200) reached and the optimization hasn't converged yet.\n",
      "  warnings.warn(\n",
      "/home/farscope2/anaconda3/envs/spiking/lib/python3.9/site-packages/sklearn/neural_network/_multilayer_perceptron.py:614: ConvergenceWarning: Stochastic Optimizer: Maximum iterations (200) reached and the optimization hasn't converged yet.\n",
      "  warnings.warn(\n",
      "/home/farscope2/anaconda3/envs/spiking/lib/python3.9/site-packages/sklearn/neural_network/_multilayer_perceptron.py:614: ConvergenceWarning: Stochastic Optimizer: Maximum iterations (200) reached and the optimization hasn't converged yet.\n",
      "  warnings.warn(\n",
      "/home/farscope2/anaconda3/envs/spiking/lib/python3.9/site-packages/sklearn/neural_network/_multilayer_perceptron.py:614: ConvergenceWarning: Stochastic Optimizer: Maximum iterations (200) reached and the optimization hasn't converged yet.\n",
      "  warnings.warn(\n",
      "/home/farscope2/anaconda3/envs/spiking/lib/python3.9/site-packages/sklearn/neural_network/_multilayer_perceptron.py:614: ConvergenceWarning: Stochastic Optimizer: Maximum iterations (200) reached and the optimization hasn't converged yet.\n",
      "  warnings.warn(\n",
      "/home/farscope2/anaconda3/envs/spiking/lib/python3.9/site-packages/sklearn/neural_network/_multilayer_perceptron.py:614: ConvergenceWarning: Stochastic Optimizer: Maximum iterations (200) reached and the optimization hasn't converged yet.\n",
      "  warnings.warn(\n",
      "/home/farscope2/anaconda3/envs/spiking/lib/python3.9/site-packages/sklearn/neural_network/_multilayer_perceptron.py:614: ConvergenceWarning: Stochastic Optimizer: Maximum iterations (200) reached and the optimization hasn't converged yet.\n",
      "  warnings.warn(\n"
     ]
    }
   ],
   "source": [
    "# Use sklearn accuracy metrics to asses\n",
    "\n",
    "#max_d = 50\n",
    "bin_size = 100\n",
    "\n",
    "train_accuracies = [] #[[] for _ in range(len(bin_sizes))]\n",
    "val_accuracies = [] #[[] for _ in range(len(bin_sizes))]\n",
    "avg_train = []\n",
    "avg_val = []\n",
    "\n",
    "# Total confusion arrays\n",
    "Y_true = []\n",
    "Y_Pred = []\n",
    "\n",
    "clf = MLPClassifier(hidden_layer_sizes=40)\n",
    "#index = 0\n",
    "\n",
    "print(\"Currently handling bin size of : \" + str(bin_size))\n",
    "x_train, x_test, y_train, y_test = train_test_split(return_data(sim_length, bin_size), labels, test_size=0.2)\n",
    "    \n",
    "x_train = np.array(x_train)\n",
    "y_train = np.array(y_train)\n",
    "    \n",
    "# Loop through each of the folds within the kfold\n",
    "for train_index, val_index in kf.split(x_train):\n",
    "    # Create folded data\n",
    "    Xtrain, Xval = x_train[train_index], x_train[val_index]\n",
    "    ytrain, yval = y_train[train_index], y_train[val_index]\n",
    "        \n",
    "    # Fit the model to the new folded training data\n",
    "    clf.fit(Xtrain, ytrain)\n",
    "\n",
    "    # Precit value using KNN\n",
    "    #y_pred = knn.predict(x_test)\n",
    "    pred_train = clf.predict(Xtrain)\n",
    "    pred_val = clf.predict(Xval)\n",
    "        \n",
    "    # Append values to seperate array for confusion matrix\n",
    "    Y_true.append(yval)\n",
    "    Y_Pred.append(pred_val)\n",
    "\n",
    "        #Calculate the accuracy of the predictions on the training set \n",
    "        #and save in the variable train_accuracies\n",
    "    train_accuracies.append(accuracy_score(ytrain, pred_train))\n",
    "        #train_accuracies[n].append(recall_score(ytrain, pred_train, average='micro'))\n",
    "        #train_accuracies[n].append(precision_score(ytrain, pred_train, average='micro'))\n",
    "        \n",
    "        #Do the same for the predictions on the validation set\n",
    "    val_accuracies.append(accuracy_score(yval, pred_val))\n",
    "        #val_accuracies[n].append(recall_score(yval, pred_val, average='micro'))\n",
    "        #val_accuracies[n].append(precision_score(yval, pred_val, average='micro'))\n",
    "        \n",
    "    #index = index + 1\n",
    "    \n",
    "#     print(np.mean(train_accuracies))\n",
    "#     print(np.mean(val_accuracies))\n",
    "avg_train.append(np.mean(train_accuracies))\n",
    "avg_val.append(np.mean(val_accuracies))\n",
    "    \n",
    "train_accuraices = []\n",
    "val_accuracies = []"
   ]
  },
  {
   "cell_type": "code",
   "execution_count": 9,
   "id": "47ed26cb",
   "metadata": {},
   "outputs": [
    {
     "name": "stdout",
     "output_type": "stream",
     "text": [
      "[0.6306818181818182]\n"
     ]
    }
   ],
   "source": [
    "#Calculate the mean for training and validation accuracies\n",
    "#print(train_accuracies)\n",
    "# print(avg_train)\n",
    "print(avg_val)\n",
    "#train_accuracy_mean = np.mean(train_accuracies, axis=1)\n",
    "#val_accuracy_mean = np.mean(val_accuracies, axis=1)"
   ]
  },
  {
   "cell_type": "code",
   "execution_count": 10,
   "id": "7e24899d",
   "metadata": {},
   "outputs": [],
   "source": [
    "# print(np.mean(train_accuracy_mean))\n",
    "# print(np.mean(val_accuracy_mean))\n",
    "# print(np.max(val_accuracies))\n",
    "#print(val_accuracies)"
   ]
  },
  {
   "cell_type": "code",
   "execution_count": 11,
   "id": "990bad2a",
   "metadata": {},
   "outputs": [],
   "source": [
    "# # Plot this data\n",
    "# x = np.linspace(0, max_d, max_d)\n",
    "\n",
    "# fig, ax = plt.subplots(figsize=(12,8))\n",
    "\n",
    "# ax.plot(x, train_accuracy_mean, color='r',label='Training Accuracy Mean')\n",
    "# ax.plot(x, val_accuracy_mean, color='b',label='Validation Accuracy Mean')\n",
    "# plt.xlabel(\"Size of hidden layers\")\n",
    "# plt.ylabel(\"Accuracy (%)\")\n",
    "# plt.title(\"Accuracy of Neural Net for \" + DATA_NAME)\n",
    "# plt.savefig(\"/home/farscope2/Documents/PhD/Spiking Nets Project/SpikingNetsTexture/graphs/neural_results/\" +\n",
    "#                     DATA_NAME + \".png\")\n",
    "# ax.legend()\n",
    "# #plt.xticks(np.arange(0,max_d,1))\n",
    "# plt.show()"
   ]
  },
  {
   "cell_type": "code",
   "execution_count": 12,
   "id": "813772de",
   "metadata": {},
   "outputs": [],
   "source": [
    "SAVE_PATH = '/home/farscope2/Documents/PhD/Spiking Nets Project/SpikingNetsTexture/graphs/paper_confusion/'\n",
    "\n",
    "Y_true = [item for sublist in Y_true for item in sublist]\n",
    "#print(Y_true)\n",
    "Y_Pred = [item for sublist in Y_Pred for item in sublist]"
   ]
  },
  {
   "cell_type": "code",
   "execution_count": 13,
   "id": "8c547ed6",
   "metadata": {},
   "outputs": [],
   "source": [
    "cnf_matrix = confusion_matrix(Y_true, Y_Pred, normalize='true')"
   ]
  },
  {
   "cell_type": "code",
   "execution_count": 14,
   "id": "961f8c2a",
   "metadata": {},
   "outputs": [
    {
     "data": {
      "image/png": "[encoded data removed]",
      "text/plain": [
       "<Figure size 257.036x158.857 with 2 Axes>"
      ]
     },
     "metadata": {
      "needs_background": "light"
     },
     "output_type": "display_data"
    },
    {
     "data": {
      "text/plain": [
       "array([[0.82666667, 0.02666667, 0.        , 0.12      , 0.        ,\n",
       "        0.02666667, 0.        , 0.        , 0.        , 0.        ,\n",
       "        0.        ],\n",
       "       [0.1025641 , 0.24358974, 0.06410256, 0.23076923, 0.02564103,\n",
       "        0.28205128, 0.05128205, 0.        , 0.        , 0.        ,\n",
       "        0.        ],\n",
       "       [0.        , 0.03296703, 0.38461538, 0.05494505, 0.12087912,\n",
       "        0.20879121, 0.17582418, 0.02197802, 0.        , 0.        ,\n",
       "        0.        ],\n",
       "       [0.12328767, 0.16438356, 0.05479452, 0.56164384, 0.02739726,\n",
       "        0.05479452, 0.01369863, 0.        , 0.        , 0.        ,\n",
       "        0.        ],\n",
       "       [0.        , 0.        , 0.07317073, 0.        , 0.52439024,\n",
       "        0.09756098, 0.24390244, 0.03658537, 0.01219512, 0.01219512,\n",
       "        0.        ],\n",
       "       [0.01162791, 0.12790698, 0.27906977, 0.03488372, 0.15116279,\n",
       "        0.3372093 , 0.04651163, 0.        , 0.        , 0.01162791,\n",
       "        0.        ],\n",
       "       [0.        , 0.02816901, 0.29577465, 0.01408451, 0.23943662,\n",
       "        0.05633803, 0.32394366, 0.04225352, 0.        , 0.        ,\n",
       "        0.        ],\n",
       "       [0.        , 0.        , 0.        , 0.        , 0.01234568,\n",
       "        0.        , 0.02469136, 0.88888889, 0.07407407, 0.        ,\n",
       "        0.        ],\n",
       "       [0.        , 0.        , 0.        , 0.        , 0.        ,\n",
       "        0.        , 0.        , 0.01234568, 0.97530864, 0.        ,\n",
       "        0.01234568],\n",
       "       [0.        , 0.        , 0.        , 0.        , 0.        ,\n",
       "        0.        , 0.02325581, 0.01162791, 0.        , 0.96511628,\n",
       "        0.        ],\n",
       "       [0.        , 0.        , 0.        , 0.        , 0.        ,\n",
       "        0.        , 0.01315789, 0.07894737, 0.        , 0.        ,\n",
       "        0.90789474]])"
      ]
     },
     "execution_count": 14,
     "metadata": {},
     "output_type": "execute_result"
    }
   ],
   "source": [
    "plt.figure(figsize=set_size(fraction=0.5))\n",
    "plt.xticks(range(11))\n",
    "plt.yticks(range(11))\n",
    "plt.imshow(cnf_matrix)\n",
    "plt.title('MLP Confusion matrix')\n",
    "plt.xlabel(\"Predicted Texture Label\")\n",
    "plt.ylabel(\"True Texture Label\")\n",
    "plt.colorbar()\n",
    "plt.savefig(SAVE_PATH + \"MLP\" + str(sim_length) + \"ms - \" + str(bin_size) + \"ms bin size dataset.eps\",bbox_inches=\"tight\")\n",
    "plt.show()\n",
    "cnf_matrix"
   ]
  },
  {
   "cell_type": "code",
   "execution_count": 15,
   "id": "5a8f734a",
   "metadata": {},
   "outputs": [],
   "source": [
    "# norm = np.linalg.norm(cnf_matrix)\n",
    "# normal_cnf = cnf_matrix/norm\n",
    "\n",
    "# plt.figure(figsize=(6, 6))\n",
    "# plt.xticks(range(11))\n",
    "# plt.yticks(range(11))\n",
    "# plt.imshow(normal_cnf)\n",
    "# plt.title('Normalised Confusion matrix')\n",
    "# plt.savefig(SAVE_PATH + DATA_NAME + \" NN normalised confusion.png\")\n",
    "# plt.show()\n",
    "# normal_cnf"
   ]
  },
  {
   "cell_type": "code",
   "execution_count": null,
   "id": "ac7a7822",
   "metadata": {},
   "outputs": [],
   "source": []
  },
  {
   "cell_type": "code",
   "execution_count": null,
   "id": "36814bfc",
   "metadata": {},
   "outputs": [],
   "source": []
  }
 ],
 "metadata": {
  "kernelspec": {
   "display_name": "Python 3",
   "language": "python",
   "name": "python3"
  },
  "language_info": {
   "codemirror_mode": {
    "name": "ipython",
    "version": 3
   },
   "file_extension": ".py",
   "mimetype": "text/x-python",
   "name": "python",
   "nbconvert_exporter": "python",
   "pygments_lexer": "ipython3",
   "version": "3.9.5"
  }
 },
 "nbformat": 4,
 "nbformat_minor": 5
}
