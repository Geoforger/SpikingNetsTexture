{
 "cells": [
  {
   "cell_type": "code",
   "execution_count": 1,
   "id": "c4f89d10",
   "metadata": {},
   "outputs": [],
   "source": [
    "# Import libraries\n",
    "import numpy as np\n",
    "import matplotlib.pyplot as plt\n",
    "import os\n",
    "import pickle\n",
    "from sklearn.model_selection import train_test_split, KFold\n",
    "from sklearn.neighbors import KNeighborsClassifier\n",
    "from sklearn.metrics import precision_score, recall_score, accuracy_score, confusion_matrix, plot_confusion_matrix\n",
    "#from sklearn.model_selection import KFold"
   ]
  },
  {
   "cell_type": "code",
   "execution_count": 2,
   "id": "06896b00",
   "metadata": {},
   "outputs": [],
   "source": [
    "# Function to set appropriate figure size for publication\n",
    "# Width @516pts is for IEEE conference format\n",
    "def set_size(width=516, fraction=1):\n",
    "    \"\"\"Set figure dimensions to avoid scaling in LaTeX.\n",
    "\n",
    "    Parameters\n",
    "    ----------\n",
    "    width: float\n",
    "            Document textwidth or columnwidth in pts\n",
    "    fraction: float, optional\n",
    "            Fraction of the width which you wish the figure to occupy\n",
    "\n",
    "    Returns\n",
    "    -------\n",
    "    fig_dim: tuple\n",
    "            Dimensions of figure in inches\n",
    "    \"\"\"\n",
    "    # Width of figure (in pts)\n",
    "    fig_width_pt = width * fraction\n",
    "\n",
    "    # Convert from pt to inches\n",
    "    inches_per_pt = 1 / 72.27\n",
    "\n",
    "    # Golden ratio to set aesthetic figure height\n",
    "    # https://disq.us/p/2940ij3\n",
    "    golden_ratio = (5**.5 - 1) / 2\n",
    "\n",
    "    # Figure width in inches\n",
    "    fig_width_in = fig_width_pt * inches_per_pt\n",
    "    # Figure height in inches\n",
    "    fig_height_in = fig_width_in * golden_ratio\n",
    "\n",
    "    fig_dim = (fig_width_in, fig_height_in)\n",
    "\n",
    "    return fig_dim"
   ]
  },
  {
   "cell_type": "code",
   "execution_count": 3,
   "id": "b79f3b2d",
   "metadata": {},
   "outputs": [],
   "source": [
    "# Data params\n",
    "textures = 11\n",
    "trials = 100\n",
    "\n",
    "# Set bin and sim params\n",
    "bin_size = 100   # Bin size in ms\n",
    "sim_length = 5000   # Sim time in ms\n",
    "bins = sim_length / bin_size"
   ]
  },
  {
   "cell_type": "code",
   "execution_count": 4,
   "id": "399321ce",
   "metadata": {},
   "outputs": [],
   "source": [
    "# Import dataset and labels from pickle\n",
    "PATH = \"/home/farscope2/Documents/PhD/Spiking Nets Project/SpikingNetsTexture/datasets/TacTip_NM/natural_classifier/\"\n",
    "DATA_NAME = str(sim_length) + \"ms - \" + str(bin_size) + \"ms bin size dataset.pickle\"\n",
    "LABEL_NAME = str(textures) + \" textures - \" + str(trials) + \" trials labels.pickle\"\n",
    "\n",
    "# Import dataset first\n",
    "FILENAME = PATH + DATA_NAME\n",
    "\n",
    "# Create array of intensities for heatmap\n",
    "with(open(FILENAME, \"rb\")) as openfile:\n",
    "    try:\n",
    "        dataset = pickle.load(openfile)\n",
    "    except EOFError:\n",
    "        print(EOFError)\n",
    "        \n",
    "# Now import label array\n",
    "FILENAME = PATH + LABEL_NAME\n",
    "\n",
    "# Create array of intensities for heatmap\n",
    "with(open(FILENAME, \"rb\")) as openfile:\n",
    "    try:\n",
    "        labels = pickle.load(openfile)\n",
    "    except EOFError:\n",
    "        print(EOFError)"
   ]
  },
  {
   "cell_type": "code",
   "execution_count": 5,
   "id": "2f627b01",
   "metadata": {},
   "outputs": [],
   "source": [
    "#print(len(dataset))"
   ]
  },
  {
   "cell_type": "code",
   "execution_count": 6,
   "id": "e282c61a",
   "metadata": {},
   "outputs": [],
   "source": [
    "# WARNING: Dataset created from previous script contains a NULL row 0\n",
    "#          This row has currently been deleted and saved over the initial dataset\n",
    "#          Note for next time is to fix this bug\n",
    "#print(dataset[0])\n",
    "#dataset = np.delete(dataset, 0, 0)\n",
    "#print(len(dataset))\n",
    "if len(dataset) == (textures * trials)+1:\n",
    "    dataset = np.delete(dataset, 0, 0)\n",
    "    \n",
    "# Split data into testing and training\n",
    "# Ration currently 80-20\n",
    "x_train, x_test, y_train, y_test = train_test_split(dataset, labels, test_size=0.2)"
   ]
  },
  {
   "cell_type": "code",
   "execution_count": 7,
   "id": "95baff4a",
   "metadata": {},
   "outputs": [],
   "source": [
    "# Create kfold validation model\n",
    "kf = KFold(n_splits=10, random_state=63, shuffle=True)"
   ]
  },
  {
   "cell_type": "code",
   "execution_count": 8,
   "id": "b04f0af1",
   "metadata": {},
   "outputs": [],
   "source": [
    "# Use sklearn accuracy metrics to asses\n",
    "\n",
    "train_accuracies = []\n",
    "val_accuracies = []\n",
    "\n",
    "x_train = np.array(x_train)\n",
    "y_train = np.array(y_train)\n",
    "\n",
    "# Total confusion arrays\n",
    "Y_true = []\n",
    "Y_Pred = []\n",
    "\n",
    "\n",
    "knn = KNeighborsClassifier(n_neighbors=2)\n",
    "\n",
    "    \n",
    "# Loop through each of the folds within the kfold\n",
    "for train_index, val_index in kf.split(x_train):\n",
    "    # Create folded data\n",
    "    Xtrain, Xval = x_train[train_index], x_train[val_index]\n",
    "    ytrain, yval = y_train[train_index], y_train[val_index]\n",
    "        \n",
    "    # Fit the model to the new folded training data\n",
    "    knn.fit(Xtrain, ytrain)\n",
    "\n",
    "    # Precit value using KNN\n",
    "    #y_pred = knn.predict(x_test)\n",
    "    pred_train = knn.predict(Xtrain)\n",
    "    pred_val = knn.predict(Xval)\n",
    "        \n",
    "    # Append values to seperate array for confusion matrix\n",
    "    Y_true.append(yval)\n",
    "    Y_Pred.append(pred_val)\n",
    "\n",
    "    #Calculate the accuracy of the predictions on the training set \n",
    "    #and save in the variable train_accuracies\n",
    "    train_accuracies.append(accuracy_score(ytrain, pred_train))\n",
    "#     train_accuracies[n].append(recall_score(ytrain, pred_train, average='micro'))\n",
    "#     train_accuracies[n].append(precision_score(ytrain, pred_train, average='micro'))\n",
    "        \n",
    "    #Do the same for the predictions on the validation set\n",
    "    val_accuracies.append(accuracy_score(yval, pred_val))\n",
    "#     val_accuracies[n].append(recall_score(yval, pred_val, average='micro'))\n",
    "#     val_accuracies[n].append(precision_score(yval, pred_val, average='micro'))"
   ]
  },
  {
   "cell_type": "code",
   "execution_count": 9,
   "id": "47ed26cb",
   "metadata": {},
   "outputs": [],
   "source": [
    "#Calculate the mean for training and validation accuracies\n",
    "train_accuracy_mean = np.mean(train_accuracies)\n",
    "natural_accuracies = np.mean(val_accuracies) * 100"
   ]
  },
  {
   "cell_type": "code",
   "execution_count": 10,
   "id": "7e24899d",
   "metadata": {},
   "outputs": [],
   "source": [
    "#print(np.mean(train_accuracy_mean))\n",
    "# print(np.mean(val_accuracy_mean))\n",
    "# print(np.max(val_accuracies))"
   ]
  },
  {
   "cell_type": "code",
   "execution_count": 11,
   "id": "6c8f24ce",
   "metadata": {},
   "outputs": [],
   "source": [
    "PATH = \"/home/farscope2/Documents/PhD/Spiking Nets Project/SpikingNetsTexture/datasets/TacTip_NM/histogram_classifier/\"\n",
    "DATA_NAME = str(sim_length) + \"ms - \" + str(bin_size) + \"ms bin size dataset.pickle\"\n",
    "LABEL_NAME = str(textures) + \" textures - \" + str(trials) + \" trials labels.pickle\"\n",
    "\n",
    "# Import dataset first\n",
    "FILENAME = PATH + DATA_NAME\n",
    "\n",
    "# Create array of intensities for heatmap\n",
    "with(open(FILENAME, \"rb\")) as openfile:\n",
    "    try:\n",
    "        dataset = pickle.load(openfile)\n",
    "    except EOFError:\n",
    "        print(EOFError)\n",
    "        \n",
    "# Now import label array\n",
    "FILENAME = PATH + LABEL_NAME\n",
    "\n",
    "# Create array of intensities for heatmap\n",
    "with(open(FILENAME, \"rb\")) as openfile:\n",
    "    try:\n",
    "        labels = pickle.load(openfile)\n",
    "    except EOFError:\n",
    "        print(EOFError)"
   ]
  },
  {
   "cell_type": "code",
   "execution_count": 12,
   "id": "663d4dbf",
   "metadata": {},
   "outputs": [],
   "source": [
    "if len(dataset) == (textures * trials)+1:\n",
    "    dataset = np.delete(dataset, 0, 0)\n",
    "    \n",
    "# Split data into testing and training\n",
    "# Ration currently 80-20\n",
    "x_train, x_test, y_train, y_test = train_test_split(dataset, labels, test_size=0.2)"
   ]
  },
  {
   "cell_type": "code",
   "execution_count": 13,
   "id": "ea1ee509",
   "metadata": {},
   "outputs": [],
   "source": [
    "# Create kfold validation model\n",
    "kf = KFold(n_splits=10, random_state=63, shuffle=True)"
   ]
  },
  {
   "cell_type": "code",
   "execution_count": 14,
   "id": "f96bfa37",
   "metadata": {},
   "outputs": [],
   "source": [
    "# Use sklearn accuracy metrics to asses\n",
    "\n",
    "train_accuracies = []\n",
    "val_accuracies = []\n",
    "\n",
    "x_train = np.array(x_train)\n",
    "y_train = np.array(y_train)\n",
    "\n",
    "# Total confusion arrays\n",
    "Y_true = []\n",
    "Y_Pred = []\n",
    "\n",
    "\n",
    "knn = KNeighborsClassifier(n_neighbors=2)\n",
    "\n",
    "    \n",
    "# Loop through each of the folds within the kfold\n",
    "for train_index, val_index in kf.split(x_train):\n",
    "    # Create folded data\n",
    "    Xtrain, Xval = x_train[train_index], x_train[val_index]\n",
    "    ytrain, yval = y_train[train_index], y_train[val_index]\n",
    "        \n",
    "    # Fit the model to the new folded training data\n",
    "    knn.fit(Xtrain, ytrain)\n",
    "\n",
    "    # Precit value using KNN\n",
    "    #y_pred = knn.predict(x_test)\n",
    "    pred_train = knn.predict(Xtrain)\n",
    "    pred_val = knn.predict(Xval)\n",
    "        \n",
    "    # Append values to seperate array for confusion matrix\n",
    "    Y_true.append(yval)\n",
    "    Y_Pred.append(pred_val)\n",
    "\n",
    "    #Calculate the accuracy of the predictions on the training set \n",
    "    #and save in the variable train_accuracies\n",
    "    train_accuracies.append(accuracy_score(ytrain, pred_train))\n",
    "#     train_accuracies[n].append(recall_score(ytrain, pred_train, average='micro'))\n",
    "#     train_accuracies[n].append(precision_score(ytrain, pred_train, average='micro'))\n",
    "        \n",
    "    #Do the same for the predictions on the validation set\n",
    "    val_accuracies.append(accuracy_score(yval, pred_val))\n",
    "#     val_accuracies[n].append(recall_score(yval, pred_val, average='micro'))\n",
    "#     val_accuracies[n].append(precision_score(yval, pred_val, average='micro'))"
   ]
  },
  {
   "cell_type": "code",
   "execution_count": 15,
   "id": "8bab6b6b",
   "metadata": {},
   "outputs": [],
   "source": [
    "artificial_accuracies = np.mean(val_accuracies)*100"
   ]
  },
  {
   "cell_type": "code",
   "execution_count": 25,
   "id": "990bad2a",
   "metadata": {},
   "outputs": [
    {
     "data": {
      "image/png": "[encoded data removed]",
      "text/plain": [
       "<Figure size 257.036x158.857 with 1 Axes>"
      ]
     },
     "metadata": {
      "needs_background": "light"
     },
     "output_type": "display_data"
    }
   ],
   "source": [
    "# Plot this data\n",
    "x = np.linspace(0, natural_accuracies.size, natural_accuracies.size)\n",
    "\n",
    "fig, ax = plt.subplots(figsize=(set_size(516,0.5)))\n",
    "\n",
    "\n",
    "ax.plot(x, artificial_accuracies, color='r',label='Artificial Accuracy Mean')\n",
    "ax.plot(x, natural_accuracies, color='b',label='Natural Accuracy Mean')\n",
    "plt.xlabel(\"Number of neighbours\")\n",
    "plt.yticks(range(0,110,10))\n",
    "plt.ylabel(\"Accuracy (%)\")\n",
    "plt.title(\"Accuracy of KNN for \" + DATA_NAME)\n",
    "plt.savefig(\"/home/farscope2/Documents/PhD/Spiking Nets Project/SpikingNetsTexture/graphs/PAPER_FINAL/\" + DATA_NAME + \".eps\")\n",
    "ax.legend()\n",
    "plt.xticks(np.arange(0,20,1))\n",
    "plt.show()"
   ]
  },
  {
   "cell_type": "code",
   "execution_count": null,
   "id": "f3731364",
   "metadata": {},
   "outputs": [],
   "source": []
  },
  {
   "cell_type": "code",
   "execution_count": null,
   "id": "813772de",
   "metadata": {},
   "outputs": [],
   "source": [
    "# SAVE_PATH = '/home/farscope2/Documents/PhD/Spiking Nets Project/SpikingNetsTexture/graphs/PAPER_FINAL/'"
   ]
  },
  {
   "cell_type": "code",
   "execution_count": null,
   "id": "9b184ded",
   "metadata": {},
   "outputs": [],
   "source": [
    "# Y_true = [item for sublist in Y_true for item in sublist]\n",
    "# #print(Y_true)\n",
    "# Y_Pred = [item for sublist in Y_Pred for item in sublist]"
   ]
  },
  {
   "cell_type": "code",
   "execution_count": null,
   "id": "1e0a08a5",
   "metadata": {},
   "outputs": [],
   "source": [
    "# cnf_matrix = confusion_matrix(Y_true, Y_Pred)"
   ]
  },
  {
   "cell_type": "code",
   "execution_count": null,
   "id": "d0e222ca",
   "metadata": {},
   "outputs": [],
   "source": [
    "# plt.figure(figsize=set_size(fraction=0.5))\n",
    "# plt.xticks(range(11))\n",
    "# plt.yticks(range(11))\n",
    "# plt.imshow(cnf_matrix)\n",
    "# plt.title('KNN Confusion matrix')\n",
    "# plt.xlabel(\"Predicted Texture Label\")\n",
    "# plt.ylabel(\"True Texture Label\")\n",
    "# plt.savefig(SAVE_PATH + DATA_NAME + \" KNN confusion.eps\",bbox_inches=\"tight\")\n",
    "# plt.show()\n",
    "# cnf_matrix"
   ]
  },
  {
   "cell_type": "code",
   "execution_count": null,
   "id": "fc351ab0",
   "metadata": {
    "scrolled": true
   },
   "outputs": [],
   "source": [
    "# norm = np.linalg.norm(cnf_matrix)\n",
    "# normal_cnf = cnf_matrix/norm\n",
    "\n",
    "# plt.figure(figsize=(6, 6))\n",
    "# plt.xticks(range(11))\n",
    "# plt.yticks(range(11))\n",
    "# plt.imshow(normal_cnf)\n",
    "# plt.title('Normalised Confusion matrix')\n",
    "# plt.savefig(SAVE_PATH + DATA_NAME + \" KNN normalised confusion.png\")\n",
    "# plt.show()\n",
    "# normal_cnf"
   ]
  }
 ],
 "metadata": {
  "kernelspec": {
   "display_name": "Python 3",
   "language": "python",
   "name": "python3"
  },
  "language_info": {
   "codemirror_mode": {
    "name": "ipython",
    "version": 3
   },
   "file_extension": ".py",
   "mimetype": "text/x-python",
   "name": "python",
   "nbconvert_exporter": "python",
   "pygments_lexer": "ipython3",
   "version": "3.9.5"
  }
 },
 "nbformat": 4,
 "nbformat_minor": 5
}
