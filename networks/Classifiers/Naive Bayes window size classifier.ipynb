{
 "cells": [
  {
   "cell_type": "code",
   "execution_count": 1,
   "id": "c4f89d10",
   "metadata": {},
   "outputs": [],
   "source": [
    "# Import libraries\n",
    "import numpy as np\n",
    "import matplotlib.pyplot as plt\n",
    "import os\n",
    "import pickle\n",
    "from sklearn.model_selection import train_test_split, KFold\n",
    "from sklearn.naive_bayes import GaussianNB\n",
    "from sklearn.metrics import precision_score, recall_score, accuracy_score, confusion_matrix, plot_confusion_matrix\n",
    "#from itertools import chain\n",
    "import math"
   ]
  },
  {
   "cell_type": "code",
   "execution_count": 2,
   "id": "b79f3b2d",
   "metadata": {},
   "outputs": [],
   "source": [
    "# Data params\n",
    "textures = 11\n",
    "trials = 100\n",
    "\n",
    "# Set bin and sim params\n",
    "bin_size = 250   # Bin size in ms\n",
    "sim_length = 5000   # Sim time in ms\n",
    "bins = math.ceil(sim_length / bin_size)\n",
    "\n",
    "# Used to iterate through windows\n",
    "#data_length = list(range(100,5000, 100))   # 100ms intervals by which to use for classifier\n",
    "data_bin_numbers = [x / bin_size for x in range (bin_size, sim_length, bin_size)]   # Number of bins each iteration will include"
   ]
  },
  {
   "cell_type": "code",
   "execution_count": 3,
   "id": "399321ce",
   "metadata": {},
   "outputs": [],
   "source": [
    "# Import clipped dataset and labels from pickle\n",
    "PATH = \"/home/farscope2/Documents/PhD/Spiking Nets Project/SpikingNetsTexture/datasets/TacTip_NM/natural_classifier/\" #300ms clipped\n",
    "DATA_NAME = str(sim_length) + \"ms - \" + str(bin_size) + \"ms bin size dataset.pickle\"\n",
    "LABEL_NAME = str(textures) + \" textures - \" + str(trials) + \" trials labels.pickle\"\n",
    "SAVE_PATH = '/home/farscope2/Documents/PhD/Spiking Nets Project/SpikingNetsTexture/graphs/natural_classifier/'\n",
    "\n",
    "# Import dataset first\n",
    "FILENAME = PATH + DATA_NAME\n",
    "\n",
    "# Create array of intensities for heatmap\n",
    "with(open(FILENAME, \"rb\")) as openfile:\n",
    "    try:\n",
    "        dataset = pickle.load(openfile)\n",
    "    except EOFError:\n",
    "        print(EOFError)\n",
    "        \n",
    "# Now import label array\n",
    "FILENAME = PATH + LABEL_NAME\n",
    "\n",
    "# Create array of intensities for heatmap\n",
    "with(open(FILENAME, \"rb\")) as openfile:\n",
    "    try:\n",
    "        labels = pickle.load(openfile)\n",
    "    except EOFError:\n",
    "        print(EOFError)"
   ]
  },
  {
   "cell_type": "code",
   "execution_count": 4,
   "id": "49dbfe48",
   "metadata": {},
   "outputs": [],
   "source": [
    "# Function to set appropriate figure size for publication\n",
    "def set_size(width, fraction=1):\n",
    "    \"\"\"Set figure dimensions to avoid scaling in LaTeX.\n",
    "\n",
    "    Parameters\n",
    "    ----------\n",
    "    width: float\n",
    "            Document textwidth or columnwidth in pts\n",
    "    fraction: float, optional\n",
    "            Fraction of the width which you wish the figure to occupy\n",
    "\n",
    "    Returns\n",
    "    -------\n",
    "    fig_dim: tuple\n",
    "            Dimensions of figure in inches\n",
    "    \"\"\"\n",
    "    # Width of figure (in pts)\n",
    "    fig_width_pt = width * fraction\n",
    "\n",
    "    # Convert from pt to inches\n",
    "    inches_per_pt = 1 / 72.27\n",
    "\n",
    "    # Golden ratio to set aesthetic figure height\n",
    "    # https://disq.us/p/2940ij3\n",
    "    golden_ratio = (5**.5 - 1) / 2\n",
    "\n",
    "    # Figure width in inches\n",
    "    fig_width_in = fig_width_pt * inches_per_pt\n",
    "    # Figure height in inches\n",
    "    fig_height_in = fig_width_in * golden_ratio\n",
    "\n",
    "    fig_dim = (fig_width_in, fig_height_in)\n",
    "\n",
    "    return fig_dim\n"
   ]
  },
  {
   "cell_type": "code",
   "execution_count": 5,
   "id": "9f20980d",
   "metadata": {},
   "outputs": [],
   "source": [
    "width = 516 # Width of document in publication"
   ]
  },
  {
   "cell_type": "code",
   "execution_count": 6,
   "id": "e282c61a",
   "metadata": {},
   "outputs": [],
   "source": [
    "# WARNING: Dataset created from previous script contains a NULL row 0\n",
    "#          This row has currently been deleted and saved over the initial dataset\n",
    "#          Note for next time is to fix this bug\n",
    "#print(dataset[0])\n",
    "#dataset = np.delete(dataset, 0, 0)\n",
    "#print(len(dataset))\n",
    "if len(dataset) == (trials * textures)+1:\n",
    "    dataset = np.delete(dataset, 0, 0)"
   ]
  },
  {
   "cell_type": "code",
   "execution_count": 7,
   "id": "57a6de3c",
   "metadata": {},
   "outputs": [],
   "source": [
    "# Function to slice a nested loop\n",
    "# Slice list = array[start:stop:step]\n",
    "def slice_nest(data, start, stop, step):\n",
    "    #new_arr = np.ones_like(data)   # Create array to contain new sliced sublists\n",
    "    new_list = []   # List to contain sliced sublist\n",
    "    \n",
    "    # Loop through data and slice each sublist - if exists\n",
    "    for sublist in data:\n",
    "        new_list.append(sublist[start:stop:step])\n",
    "        \n",
    "    # Stack data in column vector numpy array\n",
    "    #new_arr = np.array(new_list)\n",
    "    \n",
    "    # Return sliced array of lists\n",
    "    return np.array(new_list)"
   ]
  },
  {
   "cell_type": "code",
   "execution_count": 8,
   "id": "b04f0af1",
   "metadata": {
    "scrolled": true
   },
   "outputs": [
    {
     "name": "stdout",
     "output_type": "stream",
     "text": [
      "250.0ms window complete\n",
      "500.0ms window complete\n",
      "750.0ms window complete\n",
      "1000.0ms window complete\n",
      "1250.0ms window complete\n",
      "1500.0ms window complete\n",
      "1750.0ms window complete\n",
      "2000.0ms window complete\n",
      "2250.0ms window complete\n",
      "2500.0ms window complete\n",
      "2750.0ms window complete\n",
      "3000.0ms window complete\n",
      "3250.0ms window complete\n",
      "3500.0ms window complete\n",
      "3750.0ms window complete\n",
      "4000.0ms window complete\n",
      "4250.0ms window complete\n",
      "4500.0ms window complete\n",
      "4750.0ms window complete\n"
     ]
    }
   ],
   "source": [
    "# Assess naive bayes over a range of window sizes\n",
    "# Lists to contain accuracy data\n",
    "train_accuracies = []\n",
    "#     train_recall = []\n",
    "#     train_precision = []\n",
    "\n",
    "val_accuracies = []\n",
    "#     val_recall = []\n",
    "#     val_precision = []\n",
    "    \n",
    "# List to track fold accuracies\n",
    "fold_train_acc = []\n",
    "fold_val_acc = []\n",
    "    \n",
    "# Total confusion arrays\n",
    "#    Y_true = []\n",
    "#   Y_Pred = []\n",
    "\n",
    "# Create kfold validation model\n",
    "folds = 10\n",
    "kf = KFold(n_splits=folds, random_state=63, shuffle=True)\n",
    "\n",
    "\n",
    "# Loop through window sizes\n",
    "for num in data_bin_numbers:\n",
    "    \n",
    "    # Take first 'num' data points as the data window for this loop\n",
    "    num_dataset = slice_nest(dataset, 0, int(num), 1)\n",
    "    \n",
    "    # Split data into testing and training\n",
    "    # Ration currently 80-20\n",
    "    x_train, x_test, y_train, y_test = train_test_split(num_dataset, labels, test_size=0.2)\n",
    "    \n",
    "\n",
    "    # Convert training data to np arrays\n",
    "    x_train = np.array(x_train)\n",
    "    y_train = np.array(y_train)\n",
    "\n",
    "    # Create bayes classifier\n",
    "    bayes = GaussianNB()\n",
    "\n",
    "    # Loop through each of the folds within the kfold\n",
    "    for train_index, val_index in kf.split(x_train):\n",
    "        # Create folded data\n",
    "        Xtrain, Xval = x_train[train_index], x_train[val_index]\n",
    "        ytrain, yval = y_train[train_index], y_train[val_index]\n",
    "\n",
    "        # Fit the model to the new folded training data\n",
    "        bayes.fit(Xtrain, ytrain)\n",
    "\n",
    "        # Precit value using Bayes\n",
    "        #y_pred = knn.predict(x_test)\n",
    "        pred_train = bayes.predict(Xtrain)\n",
    "        pred_val = bayes.predict(Xval)\n",
    "\n",
    "        # Append values to seperate array for confusion matrix\n",
    "#         Y_true.append(yval)\n",
    "#         Y_Pred.append(pred_val)\n",
    "\n",
    "        #Calculate the accuracy of the predictions on the training set \n",
    "        #and save in the variable train_accuracies\n",
    "        fold_train_acc.append(accuracy_score(ytrain, pred_train))\n",
    "#         train_recall.append(recall_score(ytrain, pred_train, average='micro'))\n",
    "#         train_precision.append(precision_score(ytrain, pred_train, average='micro'))\n",
    "\n",
    "        #Do the same for the predictions on the validation set\n",
    "        fold_val_acc.append(accuracy_score(yval, pred_val))\n",
    "#         val_recall.append(recall_score(yval, pred_val, average='micro'))\n",
    "#         val_precision.append(precision_score(yval, pred_val, average='micro'))\n",
    "    \n",
    "    # Append the average accuracy for this window size\n",
    "    train_accuracies.append(np.mean(fold_train_acc))\n",
    "    val_accuracies.append(np.mean(fold_val_acc))\n",
    "    \n",
    "    # Empty fold tracking lists\n",
    "    fold_train_acc = []\n",
    "    fold_val_acc = []\n",
    "    \n",
    "    # Debug print statement\n",
    "    print(str(num * bin_size) + \"ms window complete\")"
   ]
  },
  {
   "cell_type": "code",
   "execution_count": 9,
   "id": "47ed26cb",
   "metadata": {},
   "outputs": [],
   "source": [
    "#Calculate the mean for training and validation accuracies\n",
    "train_accuracy_mean = np.mean(train_accuracies)\n",
    "val_accuracy_mean = np.mean(val_accuracies)\n",
    "\n",
    "# train_recall_mean = np.mean(train_recall)\n",
    "# val_recall_mean = np.mean(val_recall)\n",
    "\n",
    "# train_precision_mean = np.mean(train_precision)\n",
    "# val_precision_mean = np.mean(val_precision)"
   ]
  },
  {
   "cell_type": "code",
   "execution_count": 10,
   "id": "990bad2a",
   "metadata": {},
   "outputs": [
    {
     "name": "stderr",
     "output_type": "stream",
     "text": [
      "The PostScript backend does not support transparency; partially transparent artists will be rendered opaque.\n",
      "The PostScript backend does not support transparency; partially transparent artists will be rendered opaque.\n"
     ]
    },
    {
     "data": {
      "image/png": "[encoded data removed]",
      "text/plain": [
       "<Figure size 257.036x158.857 with 1 Axes>"
      ]
     },
     "metadata": {
      "needs_background": "light"
     },
     "output_type": "display_data"
    }
   ],
   "source": [
    "# Print mean values for accuracies\n",
    "#print(train_accuracy_mean)\n",
    "# print(val_accuracy_mean)\n",
    "# print(np.max(val_accuracies))\n",
    "\n",
    "# Plot this data\n",
    "x = np.linspace(data_bin_numbers[0] * bin_size, sim_length, len(data_bin_numbers))\n",
    "xtick = np.arange(0, sim_length + 10, bin_size * 10)\n",
    "\n",
    "fig, ax = plt.subplots(figsize=set_size(width, fraction=0.5))\n",
    "\n",
    "ax.plot(x, train_accuracies, color='r',label='Training Accuracy')\n",
    "ax.plot(x, val_accuracies, color='b',label='Validation Accuracy')\n",
    "plt.axhline(y = 0.65, color = 'c', linestyle = '--', label='Human Baseline')  # Line to indicate the human baseline\n",
    "plt.xlabel(\"Opening Window Size (ms)\")\n",
    "plt.ylabel(\"Accuracy\")\n",
    "plt.title(\"Accuracy of Naive Bayes\")\n",
    "#plt.xticks(range(data_bin_numbers[0] * bin_size, sim_length, )))\n",
    "plt.xticks(xtick)\n",
    "plt.yticks(np.arange(0.1, 1.1, step=0.1))\n",
    "ax.legend()\n",
    "plt.savefig(SAVE_PATH + DATA_NAME + \" Bayes_accuracy_baseline.eps\", bbox_inches=\"tight\")\n",
    "plt.show()"
   ]
  },
  {
   "cell_type": "code",
   "execution_count": 11,
   "id": "813772de",
   "metadata": {},
   "outputs": [],
   "source": [
    "# # Print mean values for recall\n",
    "# print(train_recall_mean)\n",
    "# print(val_recall_mean)\n",
    "\n",
    "# # Plot this data\n",
    "# fig, ax = plt.subplots(figsize=(12,8))\n",
    "\n",
    "# ax.plot(x, train_recall, color='r',label='Training Recall')\n",
    "# ax.plot(x, val_recall, color='b',label='Validation Recall')\n",
    "# plt.xlabel(\"Fold No.\")\n",
    "# plt.ylabel(\"Recall\")\n",
    "# plt.title(\"Recall of Naive Bais for \" + DATA_NAME)\n",
    "# plt.savefig(\"/home/farscope2/Documents/PhD/Spiking Nets Project/SpikingNetsTexture/graphs/bayes_results/\" +\n",
    "#                     DATA_NAME + \" recall.png\")\n",
    "# ax.legend()\n",
    "# plt.show()"
   ]
  },
  {
   "cell_type": "code",
   "execution_count": 12,
   "id": "397a8e4d",
   "metadata": {},
   "outputs": [],
   "source": [
    "# # Print mean values for precision\n",
    "# print(train_precision_mean)\n",
    "# print(val_precision_mean)\n",
    "\n",
    "# # Plot this data\n",
    "# fig, ax = plt.subplots(figsize=(12,8))\n",
    "\n",
    "# ax.plot(x, train_precision, color='r',label='Training Precision')\n",
    "# ax.plot(x, val_precision, color='b',label='Validation Precision')\n",
    "# plt.xlabel(\"Fold No.\")\n",
    "# plt.ylabel(\"Precision\")\n",
    "# plt.title(\"Precision of Naive Bais for \" + DATA_NAME)\n",
    "# plt.savefig(\"/home/farscope2/Documents/PhD/Spiking Nets Project/SpikingNetsTexture/graphs/bayes_results/\" +\n",
    "#                     DATA_NAME + \" precision.png\")\n",
    "# ax.legend()\n",
    "# plt.show()"
   ]
  },
  {
   "cell_type": "code",
   "execution_count": 13,
   "id": "f30475ee",
   "metadata": {},
   "outputs": [],
   "source": [
    "# Y_true = [item for sublist in Y_true for item in sublist]\n",
    "# #print(Y_true)\n",
    "# Y_Pred = [item for sublist in Y_Pred for item in sublist]"
   ]
  },
  {
   "cell_type": "code",
   "execution_count": 14,
   "id": "29742800",
   "metadata": {},
   "outputs": [],
   "source": [
    "#cnf_matrix = confusion_matrix(Y_true, Y_Pred)"
   ]
  },
  {
   "cell_type": "code",
   "execution_count": 15,
   "id": "29698c38",
   "metadata": {
    "scrolled": false
   },
   "outputs": [],
   "source": [
    "# plt.figure(figsize=(6, 6))\n",
    "# plt.xticks(range(11))\n",
    "# plt.yticks(range(11))\n",
    "# plt.imshow(cnf_matrix)\n",
    "# plt.title('Confusion matrix')\n",
    "# plt.savefig(SAVE_PATH + DATA_NAME + \" BAYES confusion.png\")\n",
    "# plt.show()\n",
    "# cnf_matrix"
   ]
  },
  {
   "cell_type": "code",
   "execution_count": 16,
   "id": "889669ea",
   "metadata": {},
   "outputs": [],
   "source": [
    "# norm = np.linalg.norm(cnf_matrix)\n",
    "# normal_cnf = cnf_matrix/norm"
   ]
  },
  {
   "cell_type": "code",
   "execution_count": 17,
   "id": "d7c8bca1",
   "metadata": {},
   "outputs": [],
   "source": [
    "# plt.figure(figsize=(6, 6))\n",
    "# plt.xticks(range(11))\n",
    "# plt.yticks(range(11))\n",
    "# plt.imshow(normal_cnf)\n",
    "# plt.title('Normalised Confusion matrix')\n",
    "# plt.savefig(SAVE_PATH + DATA_NAME + \" BAYES normalised confusion.png\")\n",
    "# plt.show()\n",
    "# normal_cnf"
   ]
  },
  {
   "cell_type": "code",
   "execution_count": null,
   "id": "ca9e3215",
   "metadata": {},
   "outputs": [],
   "source": []
  }
 ],
 "metadata": {
  "kernelspec": {
   "display_name": "Python 3",
   "language": "python",
   "name": "python3"
  },
  "language_info": {
   "codemirror_mode": {
    "name": "ipython",
    "version": 3
   },
   "file_extension": ".py",
   "mimetype": "text/x-python",
   "name": "python",
   "nbconvert_exporter": "python",
   "pygments_lexer": "ipython3",
   "version": "3.9.5"
  }
 },
 "nbformat": 4,
 "nbformat_minor": 5
}
