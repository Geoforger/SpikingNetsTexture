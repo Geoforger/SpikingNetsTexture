{
 "cells": [
  {
   "cell_type": "code",
   "execution_count": 1,
   "id": "c4f89d10",
   "metadata": {},
   "outputs": [],
   "source": [
    "# Import libraries\n",
    "import numpy as np\n",
    "import matplotlib.pyplot as plt\n",
    "import os\n",
    "import pickle\n",
    "from sklearn.model_selection import train_test_split, KFold\n",
    "from sklearn.neighbors import KNeighborsClassifier\n",
    "from sklearn.metrics import precision_score, recall_score, accuracy_score, confusion_matrix, plot_confusion_matrix\n",
    "#from sklearn.model_selection import KFold"
   ]
  },
  {
   "cell_type": "code",
   "execution_count": 2,
   "id": "b79f3b2d",
   "metadata": {},
   "outputs": [],
   "source": [
    "# Data params\n",
    "textures = 11\n",
    "trials = 100\n",
    "\n",
    "# Set bin and sim params\n",
    "bin_size = 20   # Bin size in ms\n",
    "sim_length = 5000   # Sim time in ms\n",
    "bins = sim_length / bin_size"
   ]
  },
  {
   "cell_type": "code",
   "execution_count": 3,
   "id": "399321ce",
   "metadata": {},
   "outputs": [],
   "source": [
    "# Import dataset and labels from pickle\n",
    "PATH = \"/home/farscope2/Documents/PhD/Spiking Nets Project/SpikingNetsTexture/datasets/TacTip_NM/histogram_classifier/\"\n",
    "DATA_NAME = str(sim_length) + \"ms - \" + str(bin_size) + \"ms bin size dataset.pickle\"\n",
    "LABEL_NAME = str(textures) + \" textures - \" + str(trials) + \" trials labels.pickle\"\n",
    "\n",
    "# Import dataset first\n",
    "FILENAME = PATH + DATA_NAME\n",
    "\n",
    "# Create array of intensities for heatmap\n",
    "with(open(FILENAME, \"rb\")) as openfile:\n",
    "    try:\n",
    "        dataset = pickle.load(openfile)\n",
    "    except EOFError:\n",
    "        print(EOFError)\n",
    "        \n",
    "# Now import label array\n",
    "FILENAME = PATH + LABEL_NAME\n",
    "\n",
    "# Create array of intensities for heatmap\n",
    "with(open(FILENAME, \"rb\")) as openfile:\n",
    "    try:\n",
    "        labels = pickle.load(openfile)\n",
    "    except EOFError:\n",
    "        print(EOFError)"
   ]
  },
  {
   "cell_type": "code",
   "execution_count": 4,
   "id": "2f627b01",
   "metadata": {},
   "outputs": [],
   "source": [
    "#print(len(dataset))"
   ]
  },
  {
   "cell_type": "code",
   "execution_count": 5,
   "id": "e282c61a",
   "metadata": {},
   "outputs": [],
   "source": [
    "# WARNING: Dataset created from previous script contains a NULL row 0\n",
    "#          This row has currently been deleted and saved over the initial dataset\n",
    "#          Note for next time is to fix this bug\n",
    "#print(dataset[0])\n",
    "#dataset = np.delete(dataset, 0, 0)\n",
    "#print(len(dataset))\n",
    "if len(dataset) == 1101:\n",
    "    dataset = np.delete(dataset, 0, 0)\n",
    "    \n",
    "# Split data into testing and training\n",
    "# Ration currently 80-20\n",
    "x_train, x_test, y_train, y_test = train_test_split(dataset, labels, test_size=0.2)"
   ]
  },
  {
   "cell_type": "code",
   "execution_count": 6,
   "id": "95baff4a",
   "metadata": {},
   "outputs": [],
   "source": [
    "# Create kfold validation model\n",
    "kf = KFold(n_splits=10, random_state=63, shuffle=True)"
   ]
  },
  {
   "cell_type": "code",
   "execution_count": 7,
   "id": "b04f0af1",
   "metadata": {},
   "outputs": [],
   "source": [
    "# Use sklearn accuracy metrics to asses\n",
    "# Test over a range of neighbour numbers\n",
    "# TO DO: Use KFold cross validation for this method\n",
    "\n",
    "max_n = 20\n",
    "\n",
    "# accuracy_scores = []\n",
    "# recall_scores = []\n",
    "# precision_scores = []\n",
    "train_accuracies = [[] for _ in range(max_n)]\n",
    "val_accuracies = [[] for _ in range(max_n)]\n",
    "\n",
    "x_train = np.array(x_train)\n",
    "y_train = np.array(y_train)\n",
    "\n",
    "# Total confusion arrays\n",
    "Y_true = []\n",
    "Y_Pred = []\n",
    "\n",
    "\n",
    "for n in range(max_n):\n",
    "    \n",
    "    knn = KNeighborsClassifier(n_neighbors=n+1)\n",
    "    \n",
    "    # Loop through each of the folds within the kfold\n",
    "    for train_index, val_index in kf.split(x_train):\n",
    "        # Create folded data\n",
    "        Xtrain, Xval = x_train[train_index], x_train[val_index]\n",
    "        ytrain, yval = y_train[train_index], y_train[val_index]\n",
    "        \n",
    "        # Fit the model to the new folded training data\n",
    "        knn.fit(Xtrain, ytrain)\n",
    "\n",
    "        # Precit value using KNN\n",
    "        #y_pred = knn.predict(x_test)\n",
    "        pred_train = knn.predict(Xtrain)\n",
    "        pred_val = knn.predict(Xval)\n",
    "        \n",
    "        # Append values to seperate array for confusion matrix\n",
    "        Y_true.append(yval)\n",
    "        Y_Pred.append(pred_val)\n",
    "\n",
    "        #Calculate the accuracy of the predictions on the training set \n",
    "        #and save in the variable train_accuracies\n",
    "        train_accuracies[n].append(accuracy_score(ytrain, pred_train))\n",
    "        train_accuracies[n].append(recall_score(ytrain, pred_train, average='micro'))\n",
    "        train_accuracies[n].append(precision_score(ytrain, pred_train, average='micro'))\n",
    "        \n",
    "        #Do the same for the predictions on the validation set\n",
    "        ###TODO###\n",
    "        val_accuracies[n].append(accuracy_score(yval, pred_val))\n",
    "        val_accuracies[n].append(recall_score(yval, pred_val, average='micro'))\n",
    "        val_accuracies[n].append(precision_score(yval, pred_val, average='micro'))"
   ]
  },
  {
   "cell_type": "code",
   "execution_count": 8,
   "id": "47ed26cb",
   "metadata": {},
   "outputs": [],
   "source": [
    "#Calculate the mean for training and validation accuracies\n",
    "train_accuracy_mean = np.mean(train_accuracies, axis=1)\n",
    "val_accuracy_mean = np.mean(val_accuracies, axis=1)"
   ]
  },
  {
   "cell_type": "code",
   "execution_count": 9,
   "id": "7e24899d",
   "metadata": {},
   "outputs": [
    {
     "name": "stdout",
     "output_type": "stream",
     "text": [
      "0.8531818181818179\n",
      "0.9431818181818182\n"
     ]
    }
   ],
   "source": [
    "#print(np.mean(train_accuracy_mean))\n",
    "print(np.mean(val_accuracy_mean))\n",
    "print(np.max(val_accuracies))"
   ]
  },
  {
   "cell_type": "code",
   "execution_count": 10,
   "id": "990bad2a",
   "metadata": {},
   "outputs": [
    {
     "data": {
      "image/png": "[encoded data removed]",
      "text/plain": [
       "<Figure size 864x576 with 1 Axes>"
      ]
     },
     "metadata": {
      "needs_background": "light"
     },
     "output_type": "display_data"
    }
   ],
   "source": [
    "# Plot this data\n",
    "x = np.linspace(0, max_n, 20)\n",
    "\n",
    "fig, ax = plt.subplots(figsize=(12,8))\n",
    "\n",
    "ax.plot(x, train_accuracy_mean, color='r',label='Training Accuracy Mean')\n",
    "ax.plot(x, val_accuracy_mean, color='b',label='Validation Accuracy Mean')\n",
    "plt.xlabel(\"Number of neighbours\")\n",
    "plt.ylabel(\"Accuracy (%)\")\n",
    "plt.title(\"Accuracy of KNN for \" + DATA_NAME)\n",
    "plt.savefig(\"/home/farscope2/Documents/PhD/Spiking Nets Project/SpikingNetsTexture/graphs/clipped_classifier_results/\" +\n",
    "                    DATA_NAME + \".png\")\n",
    "ax.legend()\n",
    "plt.xticks(np.arange(0,20,1))\n",
    "plt.show()"
   ]
  },
  {
   "cell_type": "code",
   "execution_count": 11,
   "id": "813772de",
   "metadata": {},
   "outputs": [],
   "source": [
    "SAVE_PATH = '/home/farscope2/Documents/PhD/Spiking Nets Project/SpikingNetsTexture/graphs/Classifier_confusion/'"
   ]
  },
  {
   "cell_type": "code",
   "execution_count": 12,
   "id": "9b184ded",
   "metadata": {},
   "outputs": [],
   "source": [
    "Y_true = [item for sublist in Y_true for item in sublist]\n",
    "#print(Y_true)\n",
    "Y_Pred = [item for sublist in Y_Pred for item in sublist]"
   ]
  },
  {
   "cell_type": "code",
   "execution_count": 13,
   "id": "1e0a08a5",
   "metadata": {},
   "outputs": [],
   "source": [
    "cnf_matrix = confusion_matrix(Y_true, Y_Pred)"
   ]
  },
  {
   "cell_type": "code",
   "execution_count": 14,
   "id": "d0e222ca",
   "metadata": {},
   "outputs": [
    {
     "data": {
      "image/png": "[encoded data removed]",
      "text/plain": [
       "<Figure size 432x432 with 1 Axes>"
      ]
     },
     "metadata": {
      "needs_background": "light"
     },
     "output_type": "display_data"
    },
    {
     "data": {
      "text/plain": [
       "array([[1413,    0,    0,    0,    0,    0,    0,    0,    0,   11,  176],\n",
       "       [   0, 1420,    0,    0,    0,    0,    0,    0,    0,    0,    0],\n",
       "       [   3,  246, 1444,    7,    0,    0,    0,    0,    0,    0,    0],\n",
       "       [   0,    0,    0, 1341,    5,   24,  170,    0,    0,    0,    0],\n",
       "       [   0,    0,    0,  278, 1011,  159,  123,    9,    0,    0,    0],\n",
       "       [  18,    0,    0,   24,    7, 1591,    0,    0,    0,    0,    0],\n",
       "       [   0,   33,    0,  459,    0,    0, 1088,    0,    0,    0,    0],\n",
       "       [   0,    0,    0,   44,    3,    0,   43, 1550,    0,    0,    0],\n",
       "       [   0,    0,    0,   35,   20,  247,    2,   23, 1313,    0,    0],\n",
       "       [  33,    0,    0,    0,    0,    0,    0,    0,    0, 1309,  338],\n",
       "       [   0,    0,    0,    0,    0,    0,    0,    0,    0,   44, 1536]])"
      ]
     },
     "execution_count": 14,
     "metadata": {},
     "output_type": "execute_result"
    }
   ],
   "source": [
    "plt.figure(figsize=(6, 6))\n",
    "plt.xticks(range(11))\n",
    "plt.yticks(range(11))\n",
    "plt.imshow(cnf_matrix)\n",
    "plt.title('Confusion matrix')\n",
    "plt.savefig(SAVE_PATH + DATA_NAME + \" KNN confusion.png\")\n",
    "plt.show()\n",
    "cnf_matrix"
   ]
  },
  {
   "cell_type": "code",
   "execution_count": 15,
   "id": "fc351ab0",
   "metadata": {
    "scrolled": true
   },
   "outputs": [
    {
     "data": {
      "image/png": "[encoded data removed]",
      "text/plain": [
       "<Figure size 432x432 with 1 Axes>"
      ]
     },
     "metadata": {
      "needs_background": "light"
     },
     "output_type": "display_data"
    },
    {
     "data": {
      "text/plain": [
       "array([[0.30495766, 0.        , 0.        , 0.        , 0.        ,\n",
       "        0.        , 0.        , 0.        , 0.        , 0.00237405,\n",
       "        0.03798482],\n",
       "       [0.        , 0.30646842, 0.        , 0.        , 0.        ,\n",
       "        0.        , 0.        , 0.        , 0.        , 0.        ,\n",
       "        0.        ],\n",
       "       [0.00064747, 0.05309242, 0.31164817, 0.00151076, 0.        ,\n",
       "        0.        , 0.        , 0.        , 0.        , 0.        ,\n",
       "        0.        ],\n",
       "       [0.        , 0.        , 0.        , 0.28941842, 0.00107911,\n",
       "        0.00517975, 0.03668988, 0.        , 0.        , 0.        ,\n",
       "        0.        ],\n",
       "       [0.        , 0.        , 0.        , 0.05999875, 0.21819688,\n",
       "        0.03431583, 0.02654621, 0.00194241, 0.        , 0.        ,\n",
       "        0.        ],\n",
       "       [0.00388481, 0.        , 0.        , 0.00517975, 0.00151076,\n",
       "        0.34337413, 0.        , 0.        , 0.        , 0.        ,\n",
       "        0.        ],\n",
       "       [0.        , 0.00712215, 0.        , 0.09906268, 0.        ,\n",
       "        0.        , 0.23481524, 0.        , 0.        , 0.        ,\n",
       "        0.        ],\n",
       "       [0.        , 0.        , 0.        , 0.0094962 , 0.00064747,\n",
       "        0.        , 0.00928038, 0.33452539, 0.        , 0.        ,\n",
       "        0.        ],\n",
       "       [0.        , 0.        , 0.        , 0.0075538 , 0.00431646,\n",
       "        0.05330824, 0.00043165, 0.00496393, 0.28337538, 0.        ,\n",
       "        0.        ],\n",
       "       [0.00712215, 0.        , 0.        , 0.        , 0.        ,\n",
       "        0.        , 0.        , 0.        , 0.        , 0.28251209,\n",
       "        0.07294812],\n",
       "       [0.        , 0.        , 0.        , 0.        , 0.        ,\n",
       "        0.        , 0.        , 0.        , 0.        , 0.0094962 ,\n",
       "        0.33150387]])"
      ]
     },
     "execution_count": 15,
     "metadata": {},
     "output_type": "execute_result"
    }
   ],
   "source": [
    "norm = np.linalg.norm(cnf_matrix)\n",
    "normal_cnf = cnf_matrix/norm\n",
    "\n",
    "plt.figure(figsize=(6, 6))\n",
    "plt.xticks(range(11))\n",
    "plt.yticks(range(11))\n",
    "plt.imshow(normal_cnf)\n",
    "plt.title('Normalised Confusion matrix')\n",
    "plt.savefig(SAVE_PATH + DATA_NAME + \" KNN normalised confusion.png\")\n",
    "plt.show()\n",
    "normal_cnf"
   ]
  }
 ],
 "metadata": {
  "kernelspec": {
   "display_name": "Python 3",
   "language": "python",
   "name": "python3"
  },
  "language_info": {
   "codemirror_mode": {
    "name": "ipython",
    "version": 3
   },
   "file_extension": ".py",
   "mimetype": "text/x-python",
   "name": "python",
   "nbconvert_exporter": "python",
   "pygments_lexer": "ipython3",
   "version": "3.9.5"
  }
 },
 "nbformat": 4,
 "nbformat_minor": 5
}
