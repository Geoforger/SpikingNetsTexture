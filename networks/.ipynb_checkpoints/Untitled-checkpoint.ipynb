{
 "cells": [
  {
   "cell_type": "code",
   "execution_count": 1,
   "id": "47803c38",
   "metadata": {},
   "outputs": [
    {
     "name": "stderr",
     "output_type": "stream",
     "text": [
      "<frozen importlib._bootstrap>:228: RuntimeWarning: compiletime version 3.8 of module 'pynestkernel' does not match runtime version 3.9\n",
      "/usr/lib/python3.8/dist-packages/nest/lib/hl_api_helper.py:127: UserWarning:\n",
      "ResetNetwork is deprecated and will be removed in NEST 3.0.\n"
     ]
    },
    {
     "data": {
      "text/plain": [
       "0"
      ]
     },
     "execution_count": 1,
     "metadata": {},
     "output_type": "execute_result"
    }
   ],
   "source": [
    "# Import libraries\n",
    "import nest\n",
    "import pyNN.nest as sim\n",
    "from pyNN.parameters import Sequence\n",
    "#from pyNN.models import IzhikevichType\n",
    "import numpy\n",
    "import matplotlib.pyplot as plt\n",
    "\n",
    "# Path to file containing spike timings\n",
    "DATA_PATH = \"/home/farscope2/Documents/PhD/Spiking Nets Project/SpikingNetsTexture/datasets/TacTip_NM/Reduced/Artificial Dataset 0Texture No. 0.pickle\"\n",
    "\n",
    "# Reset NEST kernal\n",
    "nest.ResetKernel()  # Reset kernal to prevent errors\n",
    "\n",
    "# Setup connection from pyNN to NEST backend\n",
    "sim.setup()"
   ]
  },
  {
   "cell_type": "code",
   "execution_count": 23,
   "id": "89f0ae68",
   "metadata": {},
   "outputs": [
    {
     "name": "stdout",
     "output_type": "stream",
     "text": [
      "Sequence([list([]) list([]) list([]) ... list([]) list([]) list([])])\n"
     ]
    }
   ],
   "source": [
    "# Define network\n",
    "N = 19600   # Number of input neurons\n",
    "\n",
    "# Input layer of izhikevich neurons\n",
    "#input_layer = nest.Create(\"izhikevich\", N)\n",
    "input_layer = sim.Population(N, sim.Izhikevich())\n",
    "\n",
    "# Import and flatten the dataset for use in the network\n",
    "spike_times = numpy.load(DATA_PATH, allow_pickle=True)\n",
    "spks = spike_times.reshape(-1)\n",
    "\n",
    "# timings = []\n",
    "\n",
    "# for x in spks:\n",
    "#     timings.append({'spike_times': Sequence(spks[x])})\n",
    "    \n",
    "#print(spks)\n",
    "print(Sequence(spks))"
   ]
  },
  {
   "cell_type": "code",
   "execution_count": 28,
   "id": "db88083a",
   "metadata": {},
   "outputs": [],
   "source": [
    "def build_spike_sequences(period, duration, n, delta_t): # period, duration, n, delta_t\n",
    "    \"\"\"\n",
    "    Return a spike time generator for `n` neurons (spike sources), where\n",
    "    all neurons fire with the same period, but neighbouring neurons have a relative\n",
    "    firing time difference of `delta_t`.\n",
    "    \"\"\"\n",
    "    def spike_time_gen(i):\n",
    "        \"\"\"Spike time generator. `i` should be an array of indices.\"\"\"\n",
    "        return [Sequence(numpy.arange(period + j * delta_t, duration, period)) for j in (i - n // 2)]\n",
    "        #return [Sequence(numpy.arange(spks[i]))]\n",
    "    return spike_time_gen"
   ]
  },
  {
   "cell_type": "code",
   "execution_count": 29,
   "id": "addf6b92",
   "metadata": {},
   "outputs": [],
   "source": [
    "firing_period = 100.0    # (ms) interval between spikes\n",
    "delta_t = 1.0            # (ms) time difference between the firing times of neighbouring neurons\n",
    "t_stop = 10 * firing_period + N * delta_t\n",
    "delay = 3.0              # (ms) synaptic time delay"
   ]
  },
  {
   "cell_type": "code",
   "execution_count": 30,
   "id": "af9501b8",
   "metadata": {},
   "outputs": [],
   "source": [
    "# presynaptic population\n",
    "spike_sequence_generator = build_spike_sequences(firing_period, t_stop, N, delta_t)\n",
    "#spike_sequence_generator = build_spike_sequences()\n",
    "p1 = sim.Population(N, sim.SpikeSourceArray(spike_times=spike_sequence_generator))"
   ]
  },
  {
   "cell_type": "code",
   "execution_count": null,
   "id": "718984e8",
   "metadata": {},
   "outputs": [],
   "source": [
    "p1.record(['spikes'])"
   ]
  }
 ],
 "metadata": {
  "kernelspec": {
   "display_name": "Python 3",
   "language": "python",
   "name": "python3"
  },
  "language_info": {
   "codemirror_mode": {
    "name": "ipython",
    "version": 3
   },
   "file_extension": ".py",
   "mimetype": "text/x-python",
   "name": "python",
   "nbconvert_exporter": "python",
   "pygments_lexer": "ipython3",
   "version": "3.9.5"
  }
 },
 "nbformat": 4,
 "nbformat_minor": 5
}
