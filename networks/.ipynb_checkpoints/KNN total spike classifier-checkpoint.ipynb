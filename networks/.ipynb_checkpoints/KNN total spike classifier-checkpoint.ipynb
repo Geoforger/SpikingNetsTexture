{
 "cells": [
  {
   "cell_type": "code",
   "execution_count": 1,
   "id": "c4f89d10",
   "metadata": {},
   "outputs": [],
   "source": [
    "# Import libraries\n",
    "import numpy as np\n",
    "import matplotlib.pyplot as plt\n",
    "import os\n",
    "import pickle\n",
    "from sklearn.model_selection import train_test_split, KFold\n",
    "from sklearn.neighbors import KNeighborsClassifier\n",
    "from sklearn.metrics import precision_score, recall_score, accuracy_score, confusion_matrix, plot_confusion_matrix\n",
    "#from sklearn.model_selection import KFold"
   ]
  },
  {
   "cell_type": "code",
   "execution_count": 2,
   "id": "b79f3b2d",
   "metadata": {},
   "outputs": [],
   "source": [
    "# Data params\n",
    "textures = 11\n",
    "trials = 100"
   ]
  },
  {
   "cell_type": "code",
   "execution_count": 3,
   "id": "399321ce",
   "metadata": {},
   "outputs": [],
   "source": [
    "# Import dataset and labels from pickle\n",
    "PATH = \"/home/farscope2/Documents/PhD/Spiking Nets Project/SpikingNetsTexture/datasets/TacTip_NM/total_spikes/\"\n",
    "DATA_NAME = \"Total spikes per texture dataset.pickle\"\n",
    "LABEL_NAME = str(textures) + \" textures - \" + str(trials) + \" trials labels.pickle\"\n",
    "GRAPH_PATH = \"/home/farscope2/Documents/PhD/Spiking Nets Project/SpikingNetsTexture/graphs/spike_classifier/\"\n",
    "\n",
    "\n",
    "# Import dataset first\n",
    "FILENAME = PATH + DATA_NAME\n",
    "\n",
    "# Create array of intensities for heatmap\n",
    "with(open(FILENAME, \"rb\")) as openfile:\n",
    "    try:\n",
    "        dataset = pickle.load(openfile)\n",
    "    except EOFError:\n",
    "        print(EOFError)\n",
    "        \n",
    "# Now import label array\n",
    "FILENAME = PATH + LABEL_NAME\n",
    "\n",
    "# Create array of intensities for heatmap\n",
    "with(open(FILENAME, \"rb\")) as openfile:\n",
    "    try:\n",
    "        labels = pickle.load(openfile)\n",
    "    except EOFError:\n",
    "        print(EOFError)"
   ]
  },
  {
   "cell_type": "code",
   "execution_count": 4,
   "id": "2f627b01",
   "metadata": {},
   "outputs": [],
   "source": [
    "#print(len(dataset))"
   ]
  },
  {
   "cell_type": "code",
   "execution_count": 5,
   "id": "e282c61a",
   "metadata": {},
   "outputs": [],
   "source": [
    "# WARNING: Dataset created from previous script contains a NULL row 0\n",
    "#          This row has currently been deleted and saved over the initial dataset\n",
    "#          Note for next time is to fix this bug\n",
    "#print(dataset[0])\n",
    "#dataset = np.delete(dataset, 0, 0)\n",
    "#print(len(dataset))\n",
    "if len(dataset) == 1101:\n",
    "    dataset = np.delete(dataset, 0, 0)\n",
    "    \n",
    "# Split data into testing and training\n",
    "# Ration currently 80-20\n",
    "x_train, x_test, y_train, y_test = train_test_split(dataset, labels, test_size=0.2)"
   ]
  },
  {
   "cell_type": "code",
   "execution_count": 6,
   "id": "6d353d92",
   "metadata": {},
   "outputs": [],
   "source": [
    "# # Create knn classifier w/5 neighbours and fit it to the training data\n",
    "# # Play around with this value when determining accuracy\n",
    "# knn = KNeighborsClassifier(n_neighbors=10)\n",
    "\n",
    "# # Fit the model to the training data\n",
    "# knn.fit(x_train, y_train)"
   ]
  },
  {
   "cell_type": "code",
   "execution_count": 7,
   "id": "95baff4a",
   "metadata": {},
   "outputs": [],
   "source": [
    "# Create kfold validation model\n",
    "kf = KFold(n_splits=10, random_state=63, shuffle=True)"
   ]
  },
  {
   "cell_type": "code",
   "execution_count": 8,
   "id": "b04f0af1",
   "metadata": {},
   "outputs": [],
   "source": [
    "# Use sklearn accuracy metrics to asses\n",
    "# Test over a range of neighbour numbers\n",
    "# TO DO: Use KFold cross validation for this method\n",
    "\n",
    "max_n = 20\n",
    "\n",
    "# accuracy_scores = []\n",
    "# recall_scores = []\n",
    "# precision_scores = []\n",
    "train_accuracies = [[] for _ in range(max_n)]\n",
    "val_accuracies = [[] for _ in range(max_n)]\n",
    "\n",
    "x_train = np.array(x_train)\n",
    "y_train = np.array(y_train)\n",
    "\n",
    "# Total confusion arrays\n",
    "Y_true = []\n",
    "Y_Pred = []\n",
    "\n",
    "\n",
    "for n in range(max_n):\n",
    "    \n",
    "    knn = KNeighborsClassifier(n_neighbors=n+1)\n",
    "    \n",
    "    # Loop through each of the folds within the kfold\n",
    "    for train_index, val_index in kf.split(x_train):\n",
    "        # Create folded data\n",
    "        Xtrain, Xval = x_train[train_index], x_train[val_index]\n",
    "        ytrain, yval = y_train[train_index], y_train[val_index]\n",
    "        \n",
    "        # Fit the model to the new folded training data\n",
    "        knn.fit(Xtrain, ytrain)\n",
    "\n",
    "        # Precit value using KNN\n",
    "        #y_pred = knn.predict(x_test)\n",
    "        pred_train = knn.predict(Xtrain)\n",
    "        pred_val = knn.predict(Xval)\n",
    "        \n",
    "        # Append values to seperate array for confusion matrix\n",
    "        Y_true.append(yval)\n",
    "        Y_Pred.append(pred_val)\n",
    "\n",
    "        #Calculate the accuracy of the predictions on the training set \n",
    "        #and save in the variable train_accuracies\n",
    "        train_accuracies[n].append(accuracy_score(ytrain, pred_train))\n",
    "        train_accuracies[n].append(recall_score(ytrain, pred_train, average='micro'))\n",
    "        train_accuracies[n].append(precision_score(ytrain, pred_train, average='micro'))\n",
    "        \n",
    "        #Do the same for the predictions on the validation set\n",
    "        ###TODO###\n",
    "        val_accuracies[n].append(accuracy_score(yval, pred_val))\n",
    "        val_accuracies[n].append(recall_score(yval, pred_val, average='micro'))\n",
    "        val_accuracies[n].append(precision_score(yval, pred_val, average='micro'))"
   ]
  },
  {
   "cell_type": "code",
   "execution_count": 9,
   "id": "47ed26cb",
   "metadata": {},
   "outputs": [],
   "source": [
    "#Calculate the mean for training and validation accuracies\n",
    "train_accuracy_mean = np.mean(train_accuracies, axis=1)\n",
    "val_accuracy_mean = np.mean(val_accuracies, axis=1)"
   ]
  },
  {
   "cell_type": "code",
   "execution_count": 10,
   "id": "7e24899d",
   "metadata": {},
   "outputs": [
    {
     "name": "stdout",
     "output_type": "stream",
     "text": [
      "0.22829545454545458\n",
      "0.4090909090909091\n"
     ]
    }
   ],
   "source": [
    "#print(np.mean(train_accuracy_mean))\n",
    "print(np.mean(val_accuracy_mean))\n",
    "print(np.max(val_accuracies))"
   ]
  },
  {
   "cell_type": "code",
   "execution_count": 11,
   "id": "990bad2a",
   "metadata": {},
   "outputs": [
    {
     "data": {
      "image/png": "[encoded data removed]",
      "text/plain": [
       "<Figure size 864x576 with 1 Axes>"
      ]
     },
     "metadata": {
      "needs_background": "light"
     },
     "output_type": "display_data"
    }
   ],
   "source": [
    "# Plot this data\n",
    "x = np.linspace(0, max_n, 20)\n",
    "\n",
    "fig, ax = plt.subplots(figsize=(12,8))\n",
    "\n",
    "ax.plot(x, train_accuracy_mean, color='r',label='Training Accuracy Mean')\n",
    "ax.plot(x, val_accuracy_mean, color='b',label='Validation Accuracy Mean')\n",
    "plt.xlabel(\"Number of neighbours\")\n",
    "plt.ylabel(\"Accuracy (%)\")\n",
    "plt.title(\"Accuracy of KNN for \" + DATA_NAME)\n",
    "plt.savefig(GRAPH_PATH + \"KNN accuracy.png\")\n",
    "ax.legend()\n",
    "plt.xticks(np.arange(0,20,1))\n",
    "plt.show()"
   ]
  },
  {
   "cell_type": "code",
   "execution_count": 13,
   "id": "9b184ded",
   "metadata": {},
   "outputs": [],
   "source": [
    "Y_true = [item for sublist in Y_true for item in sublist]\n",
    "#print(Y_true)\n",
    "Y_Pred = [item for sublist in Y_Pred for item in sublist]"
   ]
  },
  {
   "cell_type": "code",
   "execution_count": 14,
   "id": "1e0a08a5",
   "metadata": {},
   "outputs": [],
   "source": [
    "cnf_matrix = confusion_matrix(Y_true, Y_Pred)"
   ]
  },
  {
   "cell_type": "code",
   "execution_count": 15,
   "id": "d0e222ca",
   "metadata": {},
   "outputs": [
    {
     "data": {
      "image/png": "[encoded data removed]",
      "text/plain": [
       "<Figure size 432x432 with 1 Axes>"
      ]
     },
     "metadata": {
      "needs_background": "light"
     },
     "output_type": "display_data"
    },
    {
     "data": {
      "text/plain": [
       "array([[1205,    0,    0,    0,    0,    0,    0,    0,    0,  251,  244],\n",
       "       [   0, 1496,    0,    0,    8,  161,    0,   75,    0,    0,    0],\n",
       "       [ 683,    0,  724,    0,   11,  162,    3,  102,   27,   28,    0],\n",
       "       [ 895,    0,    0,    1,   20,  236,    5,  351,   12,   13,   27],\n",
       "       [1168,    0,    0,    0,   10,   63,    0,   94,   12,  211,   62],\n",
       "       [1087,    0,    0,    0,    0,   26,    0,    1,    3,  312,   71],\n",
       "       [ 907,    0,    0,    0,   14,  269,   14,  327,   14,   55,    0],\n",
       "       [1186,    0,    0,    0,    0,    0,    0,   10,    1,  241,   42],\n",
       "       [1238,    0,    0,    0,    0,    0,    1,   14,    8,  240,   39],\n",
       "       [1129,    0,    0,    0,    0,    0,    0,    0,    0,  272,  199],\n",
       "       [1187,    0,    0,    0,    0,    0,    0,    0,    0,   81,  252]])"
      ]
     },
     "execution_count": 15,
     "metadata": {},
     "output_type": "execute_result"
    }
   ],
   "source": [
    "plt.figure(figsize=(6, 6))\n",
    "plt.xticks(range(11))\n",
    "plt.yticks(range(11))\n",
    "plt.imshow(cnf_matrix)\n",
    "plt.title('Confusion matrix')\n",
    "plt.savefig(GRAPH_PATH + DATA_NAME + \" KNN confusion.png\")\n",
    "plt.show()\n",
    "cnf_matrix"
   ]
  },
  {
   "cell_type": "code",
   "execution_count": 16,
   "id": "fc351ab0",
   "metadata": {
    "scrolled": true
   },
   "outputs": [
    {
     "data": {
      "image/png": "[encoded data removed]",
      "text/plain": [
       "<Figure size 432x432 with 1 Axes>"
      ]
     },
     "metadata": {
      "needs_background": "light"
     },
     "output_type": "display_data"
    },
    {
     "data": {
      "text/plain": [
       "array([[3.06107910e-01, 0.00000000e+00, 0.00000000e+00, 0.00000000e+00,\n",
       "        0.00000000e+00, 0.00000000e+00, 0.00000000e+00, 0.00000000e+00,\n",
       "        0.00000000e+00, 6.37618967e-02, 6.19836764e-02],\n",
       "       [0.00000000e+00, 3.80031065e-01, 0.00000000e+00, 0.00000000e+00,\n",
       "        2.03225169e-03, 4.08990652e-02, 0.00000000e+00, 1.90523596e-02,\n",
       "        0.00000000e+00, 0.00000000e+00, 0.00000000e+00],\n",
       "       [1.73503488e-01, 0.00000000e+00, 1.83918778e-01, 0.00000000e+00,\n",
       "        2.79434607e-03, 4.11530967e-02, 7.62094382e-04, 2.59112090e-02,\n",
       "        6.85884944e-03, 7.11288090e-03, 0.00000000e+00],\n",
       "       [2.27358157e-01, 0.00000000e+00, 0.00000000e+00, 2.54031461e-04,\n",
       "        5.08062922e-03, 5.99514248e-02, 1.27015730e-03, 8.91650427e-02,\n",
       "        3.04837753e-03, 3.30240899e-03, 6.85884944e-03],\n",
       "       [2.96708746e-01, 0.00000000e+00, 0.00000000e+00, 0.00000000e+00,\n",
       "        2.54031461e-03, 1.60039820e-02, 0.00000000e+00, 2.38789573e-02,\n",
       "        3.04837753e-03, 5.36006382e-02, 1.57499506e-02],\n",
       "       [2.76132198e-01, 0.00000000e+00, 0.00000000e+00, 0.00000000e+00,\n",
       "        0.00000000e+00, 6.60481798e-03, 0.00000000e+00, 2.54031461e-04,\n",
       "        7.62094382e-04, 7.92578158e-02, 1.80362337e-02],\n",
       "       [2.30406535e-01, 0.00000000e+00, 0.00000000e+00, 0.00000000e+00,\n",
       "        3.55644045e-03, 6.83344630e-02, 3.55644045e-03, 8.30682877e-02,\n",
       "        3.55644045e-03, 1.39717303e-02, 0.00000000e+00],\n",
       "       [3.01281313e-01, 0.00000000e+00, 0.00000000e+00, 0.00000000e+00,\n",
       "        0.00000000e+00, 0.00000000e+00, 0.00000000e+00, 2.54031461e-03,\n",
       "        2.54031461e-04, 6.12215821e-02, 1.06693214e-02],\n",
       "       [3.14490948e-01, 0.00000000e+00, 0.00000000e+00, 0.00000000e+00,\n",
       "        0.00000000e+00, 0.00000000e+00, 2.54031461e-04, 3.55644045e-03,\n",
       "        2.03225169e-03, 6.09675506e-02, 9.90722697e-03],\n",
       "       [2.86801519e-01, 0.00000000e+00, 0.00000000e+00, 0.00000000e+00,\n",
       "        0.00000000e+00, 0.00000000e+00, 0.00000000e+00, 0.00000000e+00,\n",
       "        0.00000000e+00, 6.90965573e-02, 5.05522607e-02],\n",
       "       [3.01535344e-01, 0.00000000e+00, 0.00000000e+00, 0.00000000e+00,\n",
       "        0.00000000e+00, 0.00000000e+00, 0.00000000e+00, 0.00000000e+00,\n",
       "        0.00000000e+00, 2.05765483e-02, 6.40159281e-02]])"
      ]
     },
     "execution_count": 16,
     "metadata": {},
     "output_type": "execute_result"
    }
   ],
   "source": [
    "norm = np.linalg.norm(cnf_matrix)\n",
    "normal_cnf = cnf_matrix/norm\n",
    "\n",
    "plt.figure(figsize=(6, 6))\n",
    "plt.xticks(range(11))\n",
    "plt.yticks(range(11))\n",
    "plt.imshow(normal_cnf)\n",
    "plt.title('Normalised Confusion matrix')\n",
    "plt.savefig(GRAPH_PATH + DATA_NAME + \" KNN normalised confusion.png\")\n",
    "plt.show()\n",
    "normal_cnf"
   ]
  }
 ],
 "metadata": {
  "kernelspec": {
   "display_name": "Python 3",
   "language": "python",
   "name": "python3"
  },
  "language_info": {
   "codemirror_mode": {
    "name": "ipython",
    "version": 3
   },
   "file_extension": ".py",
   "mimetype": "text/x-python",
   "name": "python",
   "nbconvert_exporter": "python",
   "pygments_lexer": "ipython3",
   "version": "3.9.5"
  }
 },
 "nbformat": 4,
 "nbformat_minor": 5
}
