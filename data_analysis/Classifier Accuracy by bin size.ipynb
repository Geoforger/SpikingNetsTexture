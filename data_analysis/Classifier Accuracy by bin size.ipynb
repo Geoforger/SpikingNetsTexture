{
 "cells": [
  {
   "cell_type": "code",
   "execution_count": 1,
   "id": "30153811",
   "metadata": {},
   "outputs": [],
   "source": [
    "import numpy as np\n",
    "import matplotlib.pyplot as plt"
   ]
  },
  {
   "cell_type": "code",
   "execution_count": 2,
   "id": "9a6e7b7d",
   "metadata": {},
   "outputs": [],
   "source": [
    "nn_accuracies = np.array([0.36477272727272725, 0.3375, 0.2409090909090909, 0.29545454545454547, 0.6488636363636363, 0.8318181818181818, 0.8193181818181818, 0.725, 0.7375, 0.7863636363636364, 0.7375]) * 100\n",
    "\n",
    "knn_accuracies = np.array([23, 45, 58, 74, 76, 85, 85, 86, 85, 85, 84])\n",
    "#knn_accuracies = knn_accuracies / 100\n",
    "bayes_accuracies = np.array([51, 70, 72, 75, 78, 80, 73, 72, 69, 68, 69])\n",
    "#bayes_accuracies = bayes_accuracies / 100\n",
    "\n",
    "\n",
    "width = 516"
   ]
  },
  {
   "cell_type": "code",
   "execution_count": 3,
   "id": "de84007e",
   "metadata": {},
   "outputs": [],
   "source": [
    "# Function to set appropriate figure size for publication\n",
    "def set_size(width, fraction=1):\n",
    "    \"\"\"Set figure dimensions to avoid scaling in LaTeX.\n",
    "\n",
    "    Parameters\n",
    "    ----------\n",
    "    width: float\n",
    "            Document textwidth or columnwidth in pts\n",
    "    fraction: float, optional\n",
    "            Fraction of the width which you wish the figure to occupy\n",
    "\n",
    "    Returns\n",
    "    -------\n",
    "    fig_dim: tuple\n",
    "            Dimensions of figure in inches\n",
    "    \"\"\"\n",
    "    # Width of figure (in pts)\n",
    "    fig_width_pt = width * fraction\n",
    "\n",
    "    # Convert from pt to inches\n",
    "    inches_per_pt = 1 / 72.27\n",
    "\n",
    "    # Golden ratio to set aesthetic figure height\n",
    "    # https://disq.us/p/2940ij3\n",
    "    golden_ratio = (5**.5 - 1) / 2\n",
    "\n",
    "    # Figure width in inches\n",
    "    fig_width_in = fig_width_pt * inches_per_pt\n",
    "    # Figure height in inches\n",
    "    fig_height_in = fig_width_in * golden_ratio\n",
    "\n",
    "    fig_dim = (fig_width_in, fig_height_in)\n",
    "\n",
    "    return fig_dim\n"
   ]
  },
  {
   "cell_type": "code",
   "execution_count": 7,
   "id": "99a124f8",
   "metadata": {},
   "outputs": [
    {
     "name": "stderr",
     "output_type": "stream",
     "text": [
      "The PostScript backend does not support transparency; partially transparent artists will be rendered opaque.\n",
      "The PostScript backend does not support transparency; partially transparent artists will be rendered opaque.\n"
     ]
    },
    {
     "data": {
      "image/png": "[encoded data removed]",
      "text/plain": [
       "<Figure size 257.036x158.857 with 1 Axes>"
      ]
     },
     "metadata": {
      "needs_background": "light"
     },
     "output_type": "display_data"
    }
   ],
   "source": [
    "# Plot this data\n",
    "#x = np.linspace(0, 60, 6)\n",
    "x = np.array([1, 5, 10, 20, 50, 100, 200, 250, 300, 350, 400])\n",
    "yticks = np.arange(0,110,10)\n",
    "\n",
    "fig, ax = plt.subplots(figsize=set_size(width, fraction=0.5))\n",
    "\n",
    "ax.plot(x, nn_accuracies, color='r',label='MLP Accuracy')\n",
    "ax.plot(x, knn_accuracies, color='b',label='KNN Accuracy')\n",
    "ax.plot(x, bayes_accuracies, color='g',label='Naive Bayes Accuracy')\n",
    "plt.axhline(y = 65, color = 'c', linestyle = '--', label='Human Baseline')\n",
    "plt.xlabel(\"Bin Size (ms)\")\n",
    "plt.ylabel(\"Accuracy (%)\")\n",
    "plt.title(\"Classifier accuracy with increasing timing window\")\n",
    "plt.yticks(yticks)\n",
    "ax.legend()\n",
    "plt.savefig(\"/home/farscope2/Documents/PhD/Spiking Nets Project/SpikingNetsTexture/graphs/PAPER_FINAL/results_baseline.eps\", bbox_inches=\"tight\")\n",
    "#plt.xticks(np.arange(0,max_d,1))\n",
    "plt.show()"
   ]
  },
  {
   "cell_type": "code",
   "execution_count": null,
   "id": "990b43d8",
   "metadata": {},
   "outputs": [],
   "source": []
  }
 ],
 "metadata": {
  "kernelspec": {
   "display_name": "Python 3",
   "language": "python",
   "name": "python3"
  },
  "language_info": {
   "codemirror_mode": {
    "name": "ipython",
    "version": 3
   },
   "file_extension": ".py",
   "mimetype": "text/x-python",
   "name": "python",
   "nbconvert_exporter": "python",
   "pygments_lexer": "ipython3",
   "version": "3.9.5"
  }
 },
 "nbformat": 4,
 "nbformat_minor": 5
}
